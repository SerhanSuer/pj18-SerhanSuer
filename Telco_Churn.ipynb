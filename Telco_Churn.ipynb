{
 "cells": [
  {
   "cell_type": "markdown",
   "metadata": {},
   "source": [
    "<br><br><br><br><br><br><br><br><br><br>"
   ]
  },
  {
   "cell_type": "markdown",
   "metadata": {},
   "source": [
    "<font size="+3"><b>Customer Churn Forecasting</b></font><br><br>\n",
    "<font size="+1"><b>by Serhan SÜER</b>"
   ]
  },
  {
   "cell_type": "markdown",
   "metadata": {},
   "source": [
    "<br><br><br><br><br>"
   ]
  },
  {
   "cell_type": "markdown",
   "metadata": {
    "toc": true
   },
   "source": [
    "<h1>Table of Contents<span class=\"tocSkip\"></span></h1>\n",
    "<div class=\"toc\"><ul class=\"toc-item\"><li><span><a href=\"#1.-Introduction\" data-toc-modified-id=\"1.-Introduction-1\">1. Introduction</a></span></li><li><span><a href=\"#2.-Data-Preparation\" data-toc-modified-id=\"2.-Data-Preparation-2\">2. Data Preparation</a></span><ul class=\"toc-item\"><li><span><a href=\"#2.1.-Identification-of-Variables-&amp;-Data-Types\" data-toc-modified-id=\"2.1.-Identification-of-Variables-&amp;-Data-Types-2.1\">2.1. Identification of Variables &amp; Data Types</a></span></li><li><span><a href=\"#2.2.-Variable-Transformations\" data-toc-modified-id=\"2.2.-Variable-Transformations-2.2\">2.2. Variable Transformations</a></span></li></ul></li><li><span><a href=\"#3.-Exploratory-Data-Analysis\" data-toc-modified-id=\"3.-Exploratory-Data-Analysis-3\">3. Exploratory Data Analysis</a></span><ul class=\"toc-item\"><li><span><a href=\"#3.1.-Missing-Value-Treatment\" data-toc-modified-id=\"3.1.-Missing-Value-Treatment-3.1\">3.1. Missing Value Treatment</a></span></li><li><span><a href=\"#3.2.-Outlier-Treatment\" data-toc-modified-id=\"3.2.-Outlier-Treatment-3.2\">3.2. Outlier Treatment</a></span></li><li><span><a href=\"#3.3.-Univariate-Analysis\" data-toc-modified-id=\"3.3.-Univariate-Analysis-3.3\">3.3. Univariate Analysis</a></span><ul class=\"toc-item\"><li><span><a href=\"#3.3.1.-Categorical\" data-toc-modified-id=\"3.3.1.-Categorical-3.3.1\">3.3.1. Categorical</a></span></li><li><span><a href=\"#3.3.2.-Numerical\" data-toc-modified-id=\"3.3.2.-Numerical-3.3.2\">3.3.2. Numerical</a></span></li></ul></li><li><span><a href=\"#3.4.-Bivariate-Analysis\" data-toc-modified-id=\"3.4.-Bivariate-Analysis-3.4\">3.4. Bivariate Analysis</a></span><ul class=\"toc-item\"><li><span><a href=\"#3.4.1.-Categorical-&amp;-Categorical\" data-toc-modified-id=\"3.4.1.-Categorical-&amp;-Categorical-3.4.1\">3.4.1. Categorical &amp; Categorical</a></span></li><li><span><a href=\"#3.4.2.-Numerical-&amp;-Numerical\" data-toc-modified-id=\"3.4.2.-Numerical-&amp;-Numerical-3.4.2\">3.4.2. Numerical &amp; Numerical</a></span></li><li><span><a href=\"#3.4.3.-Numerical-&amp;-Categorical\" data-toc-modified-id=\"3.4.3.-Numerical-&amp;-Categorical-3.4.3\">3.4.3. Numerical &amp; Categorical</a></span></li></ul></li></ul></li><li><span><a href=\"#4.-Data-Preprocessing\" data-toc-modified-id=\"4.-Data-Preprocessing-4\">4. Data Preprocessing</a></span><ul class=\"toc-item\"><li><span><a href=\"#4.1.-Label-Encoding\" data-toc-modified-id=\"4.1.-Label-Encoding-4.1\">4.1. Label Encoding</a></span></li><li><span><a href=\"#4.2.-Dummification\" data-toc-modified-id=\"4.2.-Dummification-4.2\">4.2. Dummification</a></span></li><li><span><a href=\"#4.3.-Feature-Scaling\" data-toc-modified-id=\"4.3.-Feature-Scaling-4.3\">4.3. Feature Scaling</a></span></li><li><span><a href=\"#4.4.-Train-Test-Split\" data-toc-modified-id=\"4.4.-Train-Test-Split-4.4\">4.4. Train-Test Split</a></span></li></ul></li><li><span><a href=\"#5.-Modeling\" data-toc-modified-id=\"5.-Modeling-5\">5. Modeling</a></span></li><li><span><a href=\"#6.-Model-Evaluation\" data-toc-modified-id=\"6.-Model-Evaluation-6\">6. Model Evaluation</a></span><ul class=\"toc-item\"><li><span><a href=\"#6.1.-Performance-Metrics\" data-toc-modified-id=\"6.1.-Performance-Metrics-6.1\">6.1. Performance Metrics</a></span></li><li><span><a href=\"#6.2.-k-Fold-Cross-Validation\" data-toc-modified-id=\"6.2.-k-Fold-Cross-Validation-6.2\">6.2. k-Fold Cross-Validation</a></span></li><li><span><a href=\"#6.3.-Hyperparameter-Tuning\" data-toc-modified-id=\"6.3.-Hyperparameter-Tuning-6.3\">6.3. Hyperparameter Tuning</a></span></li></ul></li><li><span><a href=\"#7.-Conclusion\" data-toc-modified-id=\"7.-Conclusion-7\">7. Conclusion</a></span></li><li><span><a href=\"#8.-References\" data-toc-modified-id=\"8.-References-8\">8. References</a></span></li></ul></div>"
   ]
  },
  {
   "cell_type": "markdown",
   "metadata": {},
   "source": [
    "<br>"
   ]
  },
  {
   "cell_type": "markdown",
   "metadata": {},
   "source": [
    "***"
   ]
  },
  {
   "cell_type": "markdown",
   "metadata": {},
   "source": [
    "<br>"
   ]
  },
  {
   "cell_type": "markdown",
   "metadata": {},
   "source": [
    "<h1>1. Introduction</h1>"
   ]
  },
  {
   "cell_type": "markdown",
   "metadata": {},
   "source": [
    "Considering the difference between costs of obtaining new customers and retaining existing customers, customer churn is a significant problem in business life.  \n",
    "<br>\n",
    "Companies struggle to launch special marketing campaigns in order to retain customers.  \n",
    "<br>\n",
    "Identifying customers which will leave the company soon may be a competitive advantage for companies.  \n",
    "<br>\n",
    "The aim of this analysis is to predict customer churn and identify customers which will leave the company soon since company wants to launch new marketing campaign for them in this scenario.  \n",
    "<br>\n",
    "Each row represents a customer, each column contains customers' attributes.  \n",
    "The raw data contains 7043 rows (customers) and 21 columns (features).  \n",
    "The 'Churn' column is our target.  \n",
    "<br>\n",
    "The data set includes information about:  \n",
    "\n",
    "Customers who left within the last month – the column is called Churn  \n",
    "Services that each customer has signed up for – phone, multiple lines, Internet, online security, online backup, device protection, tech support, and streaming TV and movies  \n",
    "Customer account information – how long they have been a customer, contract, payment method, paperless billing, monthly charges, and total charges  \n",
    "Demographic info about customers – gender, age range, and if they have partners and dependents  \n",
    "<br>\n",
    "* customerID : The Customer ID\n",
    "* Gender : Whether the customer is a male or a female\n",
    "* SeniorCitizen : Whether the customer is a senior citizen or not (1, 0)\n",
    "* Partner : Whether the customer has a partner or not (Yes, No)\n",
    "* Dependents : Whether the customer has dependents or not (Yes, No)\n",
    "* tenure : Number of months the customer has stayed with the company\n",
    "* PhoneService : Whether the customer has a phone service or not (Yes, No)\n",
    "* MultipleLines : Whether the customer has multiple lines or not (Yes, No, No phone service)\n",
    "* InternetService : Customer’s internet service provider (DSL, Fiber optic, No)\n",
    "* OnlineSecurity : Whether the customer has online security or not (Yes, No, No internet service)\n",
    "* OnlineBackup : Whether the customer has online backup or not (Yes, No, No internet service)\n",
    "* DeviceProtection : Whether the customer has device protection or not (Yes, No, No internet service)\n",
    "* TechSupport : Whether the customer has tech support or not (Yes, No, No internet service)\n",
    "* StreamingTV : Whether the customer has streaming TV or not (Yes, No, No internet service)\n",
    "* StreamingMovies : Whether the customer has streaming movies or not (Yes, No, No internet service)\n",
    "* Contract : The contract term of the customer (Month-to-month, One year, Two year)\n",
    "* Paperless : BillingWhether the customer has paperless billing or not (Yes, No)\n",
    "* PaymentMethod : The customer’s payment method (Electronic check, Mailed check, Bank transfer, Credit card\n",
    "* MonthlyCharges : The amount charged to the customer monthly\n",
    "* TotalCharges : The total amount charged to the customer\n",
    "* Churn : Whether the customer churned or not (Yes or No)"
   ]
  },
  {
   "cell_type": "markdown",
   "metadata": {},
   "source": [
    "Importing libraries:"
   ]
  },
  {
   "cell_type": "code",
   "execution_count": 1,
   "metadata": {},
   "outputs": [],
   "source": [
    "import pandas as pd\n",
    "import numpy as np\n",
    "import seaborn as sns\n",
    "import matplotlib.pyplot as plt\n",
    "%matplotlib inline\n",
    "\n",
    "from scipy import stats\n",
    "\n",
    "from sklearn.preprocessing import LabelEncoder, OneHotEncoder, StandardScaler\n",
    "from sklearn.feature_selection import SelectFromModel\n",
    "from sklearn.model_selection import train_test_split, KFold, GridSearchCV\n",
    "\n",
    "from sklearn.naive_bayes import GaussianNB\n",
    "from sklearn.tree import DecisionTreeClassifier\n",
    "from sklearn import tree\n",
    "from sklearn.linear_model import LogisticRegression\n",
    "from sklearn.neighbors import KNeighborsClassifier\n",
    "from sklearn.svm import LinearSVC\n",
    "from sklearn.ensemble import RandomForestClassifier\n",
    "from sklearn.ensemble import GradientBoostingClassifier\n",
    "\n",
    "from sklearn.metrics import confusion_matrix,accuracy_score,classification_report\n",
    "from sklearn.metrics import roc_auc_score, log_loss, precision_score, recall_score, f1_score\n",
    "\n",
    "import warnings\n",
    "warnings.filterwarnings('ignore', category=FutureWarning)\n",
    "warnings.filterwarnings('ignore', category=RuntimeWarning)\n",
    "from sklearn.exceptions import DataConversionWarning\n",
    "warnings.filterwarnings('ignore', category=DataConversionWarning)\n",
    "\n",
    "pd.options.mode.chained_assignment = None\n",
    "pd.options.display.max_columns = None"
   ]
  },
  {
   "cell_type": "markdown",
   "metadata": {},
   "source": [
    "Reading the data file:"
   ]
  },
  {
   "cell_type": "code",
   "execution_count": 2,
   "metadata": {},
   "outputs": [],
   "source": [
    "raw_data = pd.read_csv('WA_Fn-UseC_-Telco-Customer-Churn.csv')"
   ]
  },
  {
   "cell_type": "markdown",
   "metadata": {},
   "source": [
    "The number of rows and columns of the data:"
   ]
  },
  {
   "cell_type": "code",
   "execution_count": 3,
   "metadata": {},
   "outputs": [
    {
     "data": {
      "text/plain": [
       "(7043, 21)"
      ]
     },
     "execution_count": 3,
     "metadata": {},
     "output_type": "execute_result"
    }
   ],
   "source": [
    "raw_data.shape"
   ]
  },
  {
   "cell_type": "markdown",
   "metadata": {},
   "source": [
    "The raw data contains 7043 rows (customers) and 21 columns (features)."
   ]
  },
  {
   "cell_type": "markdown",
   "metadata": {},
   "source": [
    "Enabling Jupyter Notebook to show all columns in outputs and looking at the first/last 5 rows of data:"
   ]
  },
  {
   "cell_type": "code",
   "execution_count": 4,
   "metadata": {
    "scrolled": false
   },
   "outputs": [
    {
     "data": {
      "text/html": [
       "<div>\n",
       "<style scoped>\n",
       "    .dataframe tbody tr th:only-of-type {\n",
       "        vertical-align: middle;\n",
       "    }\n",
       "\n",
       "    .dataframe tbody tr th {\n",
       "        vertical-align: top;\n",
       "    }\n",
       "\n",
       "    .dataframe thead th {\n",
       "        text-align: right;\n",
       "    }\n",
       "</style>\n",
       "<table border=\"1\" class=\"dataframe\">\n",
       "  <thead>\n",
       "    <tr style=\"text-align: right;\">\n",
       "      <th></th>\n",
       "      <th>customerID</th>\n",
       "      <th>Gender</th>\n",
       "      <th>SeniorCitizen</th>\n",
       "      <th>Partner</th>\n",
       "      <th>Dependents</th>\n",
       "      <th>tenure</th>\n",
       "      <th>PhoneService</th>\n",
       "      <th>MultipleLines</th>\n",
       "      <th>InternetService</th>\n",
       "      <th>OnlineSecurity</th>\n",
       "      <th>OnlineBackup</th>\n",
       "      <th>DeviceProtection</th>\n",
       "      <th>TechSupport</th>\n",
       "      <th>StreamingTV</th>\n",
       "      <th>StreamingMovies</th>\n",
       "      <th>Contract</th>\n",
       "      <th>PaperlessBilling</th>\n",
       "      <th>PaymentMethod</th>\n",
       "      <th>MonthlyCharges</th>\n",
       "      <th>TotalCharges</th>\n",
       "      <th>Churn</th>\n",
       "    </tr>\n",
       "  </thead>\n",
       "  <tbody>\n",
       "    <tr>\n",
       "      <th>0</th>\n",
       "      <td>7590-VHVEG</td>\n",
       "      <td>Female</td>\n",
       "      <td>0</td>\n",
       "      <td>Yes</td>\n",
       "      <td>No</td>\n",
       "      <td>1</td>\n",
       "      <td>No</td>\n",
       "      <td>No phone service</td>\n",
       "      <td>DSL</td>\n",
       "      <td>No</td>\n",
       "      <td>Yes</td>\n",
       "      <td>No</td>\n",
       "      <td>No</td>\n",
       "      <td>No</td>\n",
       "      <td>No</td>\n",
       "      <td>Month-to-month</td>\n",
       "      <td>Yes</td>\n",
       "      <td>Electronic check</td>\n",
       "      <td>29.85</td>\n",
       "      <td>29.85</td>\n",
       "      <td>No</td>\n",
       "    </tr>\n",
       "    <tr>\n",
       "      <th>1</th>\n",
       "      <td>5575-GNVDE</td>\n",
       "      <td>Male</td>\n",
       "      <td>0</td>\n",
       "      <td>No</td>\n",
       "      <td>No</td>\n",
       "      <td>34</td>\n",
       "      <td>Yes</td>\n",
       "      <td>No</td>\n",
       "      <td>DSL</td>\n",
       "      <td>Yes</td>\n",
       "      <td>No</td>\n",
       "      <td>Yes</td>\n",
       "      <td>No</td>\n",
       "      <td>No</td>\n",
       "      <td>No</td>\n",
       "      <td>One year</td>\n",
       "      <td>No</td>\n",
       "      <td>Mailed check</td>\n",
       "      <td>56.95</td>\n",
       "      <td>1889.5</td>\n",
       "      <td>No</td>\n",
       "    </tr>\n",
       "    <tr>\n",
       "      <th>2</th>\n",
       "      <td>3668-QPYBK</td>\n",
       "      <td>Male</td>\n",
       "      <td>0</td>\n",
       "      <td>No</td>\n",
       "      <td>No</td>\n",
       "      <td>2</td>\n",
       "      <td>Yes</td>\n",
       "      <td>No</td>\n",
       "      <td>DSL</td>\n",
       "      <td>Yes</td>\n",
       "      <td>Yes</td>\n",
       "      <td>No</td>\n",
       "      <td>No</td>\n",
       "      <td>No</td>\n",
       "      <td>No</td>\n",
       "      <td>Month-to-month</td>\n",
       "      <td>Yes</td>\n",
       "      <td>Mailed check</td>\n",
       "      <td>53.85</td>\n",
       "      <td>108.15</td>\n",
       "      <td>Yes</td>\n",
       "    </tr>\n",
       "    <tr>\n",
       "      <th>3</th>\n",
       "      <td>7795-CFOCW</td>\n",
       "      <td>Male</td>\n",
       "      <td>0</td>\n",
       "      <td>No</td>\n",
       "      <td>No</td>\n",
       "      <td>45</td>\n",
       "      <td>No</td>\n",
       "      <td>No phone service</td>\n",
       "      <td>DSL</td>\n",
       "      <td>Yes</td>\n",
       "      <td>No</td>\n",
       "      <td>Yes</td>\n",
       "      <td>Yes</td>\n",
       "      <td>No</td>\n",
       "      <td>No</td>\n",
       "      <td>One year</td>\n",
       "      <td>No</td>\n",
       "      <td>Bank transfer (automatic)</td>\n",
       "      <td>42.30</td>\n",
       "      <td>1840.75</td>\n",
       "      <td>No</td>\n",
       "    </tr>\n",
       "    <tr>\n",
       "      <th>4</th>\n",
       "      <td>9237-HQITU</td>\n",
       "      <td>Female</td>\n",
       "      <td>0</td>\n",
       "      <td>No</td>\n",
       "      <td>No</td>\n",
       "      <td>2</td>\n",
       "      <td>Yes</td>\n",
       "      <td>No</td>\n",
       "      <td>Fiber optic</td>\n",
       "      <td>No</td>\n",
       "      <td>No</td>\n",
       "      <td>No</td>\n",
       "      <td>No</td>\n",
       "      <td>No</td>\n",
       "      <td>No</td>\n",
       "      <td>Month-to-month</td>\n",
       "      <td>Yes</td>\n",
       "      <td>Electronic check</td>\n",
       "      <td>70.70</td>\n",
       "      <td>151.65</td>\n",
       "      <td>Yes</td>\n",
       "    </tr>\n",
       "  </tbody>\n",
       "</table>\n",
       "</div>"
      ],
      "text/plain": [
       "   customerID  Gender  SeniorCitizen Partner Dependents  tenure PhoneService  \\\n",
       "0  7590-VHVEG  Female              0     Yes         No       1           No   \n",
       "1  5575-GNVDE    Male              0      No         No      34          Yes   \n",
       "2  3668-QPYBK    Male              0      No         No       2          Yes   \n",
       "3  7795-CFOCW    Male              0      No         No      45           No   \n",
       "4  9237-HQITU  Female              0      No         No       2          Yes   \n",
       "\n",
       "      MultipleLines InternetService OnlineSecurity OnlineBackup  \\\n",
       "0  No phone service             DSL             No          Yes   \n",
       "1                No             DSL            Yes           No   \n",
       "2                No             DSL            Yes          Yes   \n",
       "3  No phone service             DSL            Yes           No   \n",
       "4                No     Fiber optic             No           No   \n",
       "\n",
       "  DeviceProtection TechSupport StreamingTV StreamingMovies        Contract  \\\n",
       "0               No          No          No              No  Month-to-month   \n",
       "1              Yes          No          No              No        One year   \n",
       "2               No          No          No              No  Month-to-month   \n",
       "3              Yes         Yes          No              No        One year   \n",
       "4               No          No          No              No  Month-to-month   \n",
       "\n",
       "  PaperlessBilling              PaymentMethod  MonthlyCharges TotalCharges  \\\n",
       "0              Yes           Electronic check           29.85        29.85   \n",
       "1               No               Mailed check           56.95       1889.5   \n",
       "2              Yes               Mailed check           53.85       108.15   \n",
       "3               No  Bank transfer (automatic)           42.30      1840.75   \n",
       "4              Yes           Electronic check           70.70       151.65   \n",
       "\n",
       "  Churn  \n",
       "0    No  \n",
       "1    No  \n",
       "2   Yes  \n",
       "3    No  \n",
       "4   Yes  "
      ]
     },
     "execution_count": 4,
     "metadata": {},
     "output_type": "execute_result"
    }
   ],
   "source": [
    "raw_data.head()"
   ]
  },
  {
   "cell_type": "code",
   "execution_count": 5,
   "metadata": {
    "scrolled": true
   },
   "outputs": [
    {
     "data": {
      "text/html": [
       "<div>\n",
       "<style scoped>\n",
       "    .dataframe tbody tr th:only-of-type {\n",
       "        vertical-align: middle;\n",
       "    }\n",
       "\n",
       "    .dataframe tbody tr th {\n",
       "        vertical-align: top;\n",
       "    }\n",
       "\n",
       "    .dataframe thead th {\n",
       "        text-align: right;\n",
       "    }\n",
       "</style>\n",
       "<table border=\"1\" class=\"dataframe\">\n",
       "  <thead>\n",
       "    <tr style=\"text-align: right;\">\n",
       "      <th></th>\n",
       "      <th>customerID</th>\n",
       "      <th>Gender</th>\n",
       "      <th>SeniorCitizen</th>\n",
       "      <th>Partner</th>\n",
       "      <th>Dependents</th>\n",
       "      <th>tenure</th>\n",
       "      <th>PhoneService</th>\n",
       "      <th>MultipleLines</th>\n",
       "      <th>InternetService</th>\n",
       "      <th>OnlineSecurity</th>\n",
       "      <th>OnlineBackup</th>\n",
       "      <th>DeviceProtection</th>\n",
       "      <th>TechSupport</th>\n",
       "      <th>StreamingTV</th>\n",
       "      <th>StreamingMovies</th>\n",
       "      <th>Contract</th>\n",
       "      <th>PaperlessBilling</th>\n",
       "      <th>PaymentMethod</th>\n",
       "      <th>MonthlyCharges</th>\n",
       "      <th>TotalCharges</th>\n",
       "      <th>Churn</th>\n",
       "    </tr>\n",
       "  </thead>\n",
       "  <tbody>\n",
       "    <tr>\n",
       "      <th>7038</th>\n",
       "      <td>6840-RESVB</td>\n",
       "      <td>Male</td>\n",
       "      <td>0</td>\n",
       "      <td>Yes</td>\n",
       "      <td>Yes</td>\n",
       "      <td>24</td>\n",
       "      <td>Yes</td>\n",
       "      <td>Yes</td>\n",
       "      <td>DSL</td>\n",
       "      <td>Yes</td>\n",
       "      <td>No</td>\n",
       "      <td>Yes</td>\n",
       "      <td>Yes</td>\n",
       "      <td>Yes</td>\n",
       "      <td>Yes</td>\n",
       "      <td>One year</td>\n",
       "      <td>Yes</td>\n",
       "      <td>Mailed check</td>\n",
       "      <td>84.80</td>\n",
       "      <td>1990.5</td>\n",
       "      <td>No</td>\n",
       "    </tr>\n",
       "    <tr>\n",
       "      <th>7039</th>\n",
       "      <td>2234-XADUH</td>\n",
       "      <td>Female</td>\n",
       "      <td>0</td>\n",
       "      <td>Yes</td>\n",
       "      <td>Yes</td>\n",
       "      <td>72</td>\n",
       "      <td>Yes</td>\n",
       "      <td>Yes</td>\n",
       "      <td>Fiber optic</td>\n",
       "      <td>No</td>\n",
       "      <td>Yes</td>\n",
       "      <td>Yes</td>\n",
       "      <td>No</td>\n",
       "      <td>Yes</td>\n",
       "      <td>Yes</td>\n",
       "      <td>One year</td>\n",
       "      <td>Yes</td>\n",
       "      <td>Credit card (automatic)</td>\n",
       "      <td>103.20</td>\n",
       "      <td>7362.9</td>\n",
       "      <td>No</td>\n",
       "    </tr>\n",
       "    <tr>\n",
       "      <th>7040</th>\n",
       "      <td>4801-JZAZL</td>\n",
       "      <td>Female</td>\n",
       "      <td>0</td>\n",
       "      <td>Yes</td>\n",
       "      <td>Yes</td>\n",
       "      <td>11</td>\n",
       "      <td>No</td>\n",
       "      <td>No phone service</td>\n",
       "      <td>DSL</td>\n",
       "      <td>Yes</td>\n",
       "      <td>No</td>\n",
       "      <td>No</td>\n",
       "      <td>No</td>\n",
       "      <td>No</td>\n",
       "      <td>No</td>\n",
       "      <td>Month-to-month</td>\n",
       "      <td>Yes</td>\n",
       "      <td>Electronic check</td>\n",
       "      <td>29.60</td>\n",
       "      <td>346.45</td>\n",
       "      <td>No</td>\n",
       "    </tr>\n",
       "    <tr>\n",
       "      <th>7041</th>\n",
       "      <td>8361-LTMKD</td>\n",
       "      <td>Male</td>\n",
       "      <td>1</td>\n",
       "      <td>Yes</td>\n",
       "      <td>No</td>\n",
       "      <td>4</td>\n",
       "      <td>Yes</td>\n",
       "      <td>Yes</td>\n",
       "      <td>Fiber optic</td>\n",
       "      <td>No</td>\n",
       "      <td>No</td>\n",
       "      <td>No</td>\n",
       "      <td>No</td>\n",
       "      <td>No</td>\n",
       "      <td>No</td>\n",
       "      <td>Month-to-month</td>\n",
       "      <td>Yes</td>\n",
       "      <td>Mailed check</td>\n",
       "      <td>74.40</td>\n",
       "      <td>306.6</td>\n",
       "      <td>Yes</td>\n",
       "    </tr>\n",
       "    <tr>\n",
       "      <th>7042</th>\n",
       "      <td>3186-AJIEK</td>\n",
       "      <td>Male</td>\n",
       "      <td>0</td>\n",
       "      <td>No</td>\n",
       "      <td>No</td>\n",
       "      <td>66</td>\n",
       "      <td>Yes</td>\n",
       "      <td>No</td>\n",
       "      <td>Fiber optic</td>\n",
       "      <td>Yes</td>\n",
       "      <td>No</td>\n",
       "      <td>Yes</td>\n",
       "      <td>Yes</td>\n",
       "      <td>Yes</td>\n",
       "      <td>Yes</td>\n",
       "      <td>Two year</td>\n",
       "      <td>Yes</td>\n",
       "      <td>Bank transfer (automatic)</td>\n",
       "      <td>105.65</td>\n",
       "      <td>6844.5</td>\n",
       "      <td>No</td>\n",
       "    </tr>\n",
       "  </tbody>\n",
       "</table>\n",
       "</div>"
      ],
      "text/plain": [
       "      customerID  Gender  SeniorCitizen Partner Dependents  tenure  \\\n",
       "7038  6840-RESVB    Male              0     Yes        Yes      24   \n",
       "7039  2234-XADUH  Female              0     Yes        Yes      72   \n",
       "7040  4801-JZAZL  Female              0     Yes        Yes      11   \n",
       "7041  8361-LTMKD    Male              1     Yes         No       4   \n",
       "7042  3186-AJIEK    Male              0      No         No      66   \n",
       "\n",
       "     PhoneService     MultipleLines InternetService OnlineSecurity  \\\n",
       "7038          Yes               Yes             DSL            Yes   \n",
       "7039          Yes               Yes     Fiber optic             No   \n",
       "7040           No  No phone service             DSL            Yes   \n",
       "7041          Yes               Yes     Fiber optic             No   \n",
       "7042          Yes                No     Fiber optic            Yes   \n",
       "\n",
       "     OnlineBackup DeviceProtection TechSupport StreamingTV StreamingMovies  \\\n",
       "7038           No              Yes         Yes         Yes             Yes   \n",
       "7039          Yes              Yes          No         Yes             Yes   \n",
       "7040           No               No          No          No              No   \n",
       "7041           No               No          No          No              No   \n",
       "7042           No              Yes         Yes         Yes             Yes   \n",
       "\n",
       "            Contract PaperlessBilling              PaymentMethod  \\\n",
       "7038        One year              Yes               Mailed check   \n",
       "7039        One year              Yes    Credit card (automatic)   \n",
       "7040  Month-to-month              Yes           Electronic check   \n",
       "7041  Month-to-month              Yes               Mailed check   \n",
       "7042        Two year              Yes  Bank transfer (automatic)   \n",
       "\n",
       "      MonthlyCharges TotalCharges Churn  \n",
       "7038           84.80       1990.5    No  \n",
       "7039          103.20       7362.9    No  \n",
       "7040           29.60       346.45    No  \n",
       "7041           74.40        306.6   Yes  \n",
       "7042          105.65       6844.5    No  "
      ]
     },
     "execution_count": 5,
     "metadata": {},
     "output_type": "execute_result"
    }
   ],
   "source": [
    "raw_data.tail()"
   ]
  },
  {
   "cell_type": "markdown",
   "metadata": {},
   "source": [
    "<br>"
   ]
  },
  {
   "cell_type": "markdown",
   "metadata": {},
   "source": [
    "***"
   ]
  },
  {
   "cell_type": "markdown",
   "metadata": {},
   "source": [
    "<br>"
   ]
  },
  {
   "cell_type": "markdown",
   "metadata": {},
   "source": [
    "<h1>2. Data Preparation</h1><br>"
   ]
  },
  {
   "cell_type": "markdown",
   "metadata": {},
   "source": [
    "<h2>2.1. Identification of Variables & Data Types</h2>"
   ]
  },
  {
   "cell_type": "code",
   "execution_count": 6,
   "metadata": {
    "scrolled": false
   },
   "outputs": [
    {
     "name": "stdout",
     "output_type": "stream",
     "text": [
      "<class 'pandas.core.frame.DataFrame'>\n",
      "RangeIndex: 7043 entries, 0 to 7042\n",
      "Data columns (total 21 columns):\n",
      "customerID          7043 non-null object\n",
      "Gender              7043 non-null object\n",
      "SeniorCitizen       7043 non-null int64\n",
      "Partner             7043 non-null object\n",
      "Dependents          7043 non-null object\n",
      "tenure              7043 non-null int64\n",
      "PhoneService        7043 non-null object\n",
      "MultipleLines       7043 non-null object\n",
      "InternetService     7043 non-null object\n",
      "OnlineSecurity      7043 non-null object\n",
      "OnlineBackup        7043 non-null object\n",
      "DeviceProtection    7043 non-null object\n",
      "TechSupport         7043 non-null object\n",
      "StreamingTV         7043 non-null object\n",
      "StreamingMovies     7043 non-null object\n",
      "Contract            7043 non-null object\n",
      "PaperlessBilling    7043 non-null object\n",
      "PaymentMethod       7043 non-null object\n",
      "MonthlyCharges      7043 non-null float64\n",
      "TotalCharges        7043 non-null object\n",
      "Churn               7043 non-null object\n",
      "dtypes: float64(1), int64(2), object(18)\n",
      "memory usage: 1.1+ MB\n"
     ]
    }
   ],
   "source": [
    "raw_data.info()"
   ]
  },
  {
   "cell_type": "markdown",
   "metadata": {},
   "source": [
    "It can be understood that most of the variables have object data type, there are 2 variables which have int data type and there is 1 variable with float data type."
   ]
  },
  {
   "cell_type": "markdown",
   "metadata": {},
   "source": [
    "The number of distinct values of each column:"
   ]
  },
  {
   "cell_type": "code",
   "execution_count": 7,
   "metadata": {},
   "outputs": [
    {
     "data": {
      "text/plain": [
       "customerID          [7043]\n",
       "Gender                 [2]\n",
       "SeniorCitizen          [2]\n",
       "Partner                [2]\n",
       "Dependents             [2]\n",
       "tenure                [73]\n",
       "PhoneService           [2]\n",
       "MultipleLines          [3]\n",
       "InternetService        [3]\n",
       "OnlineSecurity         [3]\n",
       "OnlineBackup           [3]\n",
       "DeviceProtection       [3]\n",
       "TechSupport            [3]\n",
       "StreamingTV            [3]\n",
       "StreamingMovies        [3]\n",
       "Contract               [3]\n",
       "PaperlessBilling       [2]\n",
       "PaymentMethod          [4]\n",
       "MonthlyCharges      [1585]\n",
       "TotalCharges        [6531]\n",
       "Churn                  [2]\n",
       "dtype: object"
      ]
     },
     "execution_count": 7,
     "metadata": {},
     "output_type": "execute_result"
    }
   ],
   "source": [
    "raw_data.apply(lambda x: [x.nunique()])"
   ]
  },
  {
   "cell_type": "markdown",
   "metadata": {},
   "source": [
    "The distinct values of each column:"
   ]
  },
  {
   "cell_type": "code",
   "execution_count": 8,
   "metadata": {
    "scrolled": false
   },
   "outputs": [
    {
     "data": {
      "text/plain": [
       "customerID          [[7590-VHVEG, 5575-GNVDE, 3668-QPYBK, 7795-CFO...\n",
       "Gender                                               [[Female, Male]]\n",
       "SeniorCitizen                                                [[0, 1]]\n",
       "Partner                                                   [[Yes, No]]\n",
       "Dependents                                                [[No, Yes]]\n",
       "tenure              [[1, 34, 2, 45, 8, 22, 10, 28, 62, 13, 16, 58,...\n",
       "PhoneService                                              [[No, Yes]]\n",
       "MultipleLines                           [[No phone service, No, Yes]]\n",
       "InternetService                              [[DSL, Fiber optic, No]]\n",
       "OnlineSecurity                       [[No, Yes, No internet service]]\n",
       "OnlineBackup                         [[Yes, No, No internet service]]\n",
       "DeviceProtection                     [[No, Yes, No internet service]]\n",
       "TechSupport                          [[No, Yes, No internet service]]\n",
       "StreamingTV                          [[No, Yes, No internet service]]\n",
       "StreamingMovies                      [[No, Yes, No internet service]]\n",
       "Contract                       [[Month-to-month, One year, Two year]]\n",
       "PaperlessBilling                                          [[Yes, No]]\n",
       "PaymentMethod       [[Electronic check, Mailed check, Bank transfe...\n",
       "MonthlyCharges      [[29.85, 56.95, 53.85, 42.3, 70.7, 99.65, 89.1...\n",
       "TotalCharges        [[29.85, 1889.5, 108.15, 1840.75, 151.65, 820....\n",
       "Churn                                                     [[No, Yes]]\n",
       "dtype: object"
      ]
     },
     "execution_count": 8,
     "metadata": {},
     "output_type": "execute_result"
    }
   ],
   "source": [
    "raw_data.apply(lambda x: [x.unique()])"
   ]
  },
  {
   "cell_type": "markdown",
   "metadata": {},
   "source": [
    "Outputs illustrates that the most of the variables(18/21) are categorical and have 4 distinct values at most. 'Churn' is target variable and the other variables are predictors."
   ]
  },
  {
   "cell_type": "markdown",
   "metadata": {},
   "source": [
    "'tenure', 'MontlyCharges' and 'TotalCharges' are numerical variables of the data."
   ]
  },
  {
   "cell_type": "markdown",
   "metadata": {},
   "source": [
    "Although type of 'TotalCharges' should be float, it's type is object.  \n",
    "<br>\n",
    "It may have some string values."
   ]
  },
  {
   "cell_type": "code",
   "execution_count": 9,
   "metadata": {
    "scrolled": false
   },
   "outputs": [
    {
     "data": {
      "text/plain": [
       "936            \n",
       "3826           \n",
       "4380           \n",
       "753            \n",
       "5218           \n",
       "3331           \n",
       "6754           \n",
       "6670           \n",
       "1340           \n",
       "488            \n",
       "1082           \n",
       "105       100.2\n",
       "4459     100.25\n",
       "1723     100.35\n",
       "2124      100.4\n",
       "2208      100.8\n",
       "460       100.9\n",
       "3883     1001.2\n",
       "2799     1001.5\n",
       "5337    1003.05\n",
       "Name: TotalCharges, dtype: object"
      ]
     },
     "execution_count": 9,
     "metadata": {},
     "output_type": "execute_result"
    }
   ],
   "source": [
    "raw_data['TotalCharges'].sort_values().head(20)"
   ]
  },
  {
   "cell_type": "markdown",
   "metadata": {},
   "source": [
    "There are 11 rows which contain empty values in 'TotalCharges' column.  \n",
    "<br>\n",
    "Thus, it's type will be transformed to float after missing value treatment process in Exploratory Data Analysis step."
   ]
  },
  {
   "cell_type": "markdown",
   "metadata": {},
   "source": [
    "<br><br>"
   ]
  },
  {
   "cell_type": "markdown",
   "metadata": {},
   "source": [
    "<h2>2.2. Variable Transformations</h2>"
   ]
  },
  {
   "cell_type": "markdown",
   "metadata": {},
   "source": [
    "First of all, 'customerID' column will be dropped since it is ineffective for the analysis."
   ]
  },
  {
   "cell_type": "code",
   "execution_count": 10,
   "metadata": {},
   "outputs": [],
   "source": [
    "data = raw_data.drop('customerID', axis=1)"
   ]
  },
  {
   "cell_type": "code",
   "execution_count": 11,
   "metadata": {},
   "outputs": [
    {
     "name": "stdout",
     "output_type": "stream",
     "text": [
      "<class 'pandas.core.frame.DataFrame'>\n",
      "RangeIndex: 7043 entries, 0 to 7042\n",
      "Data columns (total 20 columns):\n",
      "Gender              7043 non-null object\n",
      "SeniorCitizen       7043 non-null int64\n",
      "Partner             7043 non-null object\n",
      "Dependents          7043 non-null object\n",
      "tenure              7043 non-null int64\n",
      "PhoneService        7043 non-null object\n",
      "MultipleLines       7043 non-null object\n",
      "InternetService     7043 non-null object\n",
      "OnlineSecurity      7043 non-null object\n",
      "OnlineBackup        7043 non-null object\n",
      "DeviceProtection    7043 non-null object\n",
      "TechSupport         7043 non-null object\n",
      "StreamingTV         7043 non-null object\n",
      "StreamingMovies     7043 non-null object\n",
      "Contract            7043 non-null object\n",
      "PaperlessBilling    7043 non-null object\n",
      "PaymentMethod       7043 non-null object\n",
      "MonthlyCharges      7043 non-null float64\n",
      "TotalCharges        7043 non-null object\n",
      "Churn               7043 non-null object\n",
      "dtypes: float64(1), int64(2), object(17)\n",
      "memory usage: 1.1+ MB\n"
     ]
    }
   ],
   "source": [
    "data.info()"
   ]
  },
  {
   "cell_type": "markdown",
   "metadata": {},
   "source": [
    "Replacing 1 and 0 values in the 'MultipleLines' column with 'Yes' and 'No' since it is categorical feature."
   ]
  },
  {
   "cell_type": "code",
   "execution_count": 12,
   "metadata": {},
   "outputs": [],
   "source": [
    "data['SeniorCitizen'] = data['SeniorCitizen'].replace({1:'Yes',0:'No'})"
   ]
  },
  {
   "cell_type": "markdown",
   "metadata": {},
   "source": [
    "Renaming 'tenure' column:"
   ]
  },
  {
   "cell_type": "code",
   "execution_count": 13,
   "metadata": {},
   "outputs": [],
   "source": [
    "data = data.rename(columns={'tenure':'Tenure'})"
   ]
  },
  {
   "cell_type": "markdown",
   "metadata": {},
   "source": [
    "<br>"
   ]
  },
  {
   "cell_type": "markdown",
   "metadata": {},
   "source": [
    "***"
   ]
  },
  {
   "cell_type": "markdown",
   "metadata": {},
   "source": [
    "<br>"
   ]
  },
  {
   "cell_type": "markdown",
   "metadata": {},
   "source": [
    "<h1>3. Exploratory Data Analysis</h1><br>"
   ]
  },
  {
   "cell_type": "markdown",
   "metadata": {},
   "source": [
    "<h2>3.1. Missing Value Treatment</h2>"
   ]
  },
  {
   "cell_type": "markdown",
   "metadata": {},
   "source": [
    "Replacing empty values with na in the data:"
   ]
  },
  {
   "cell_type": "markdown",
   "metadata": {},
   "source": [
    "Let's see the na values:"
   ]
  },
  {
   "cell_type": "code",
   "execution_count": 14,
   "metadata": {},
   "outputs": [],
   "source": [
    "data = data.replace('', np.nan)\n",
    "data = data.replace(' ', np.nan)"
   ]
  },
  {
   "cell_type": "code",
   "execution_count": 15,
   "metadata": {
    "scrolled": false
   },
   "outputs": [
    {
     "data": {
      "text/html": [
       "<div>\n",
       "<style scoped>\n",
       "    .dataframe tbody tr th:only-of-type {\n",
       "        vertical-align: middle;\n",
       "    }\n",
       "\n",
       "    .dataframe tbody tr th {\n",
       "        vertical-align: top;\n",
       "    }\n",
       "\n",
       "    .dataframe thead th {\n",
       "        text-align: right;\n",
       "    }\n",
       "</style>\n",
       "<table border=\"1\" class=\"dataframe\">\n",
       "  <thead>\n",
       "    <tr style=\"text-align: right;\">\n",
       "      <th></th>\n",
       "      <th>Gender</th>\n",
       "      <th>SeniorCitizen</th>\n",
       "      <th>Partner</th>\n",
       "      <th>Dependents</th>\n",
       "      <th>Tenure</th>\n",
       "      <th>PhoneService</th>\n",
       "      <th>MultipleLines</th>\n",
       "      <th>InternetService</th>\n",
       "      <th>OnlineSecurity</th>\n",
       "      <th>OnlineBackup</th>\n",
       "      <th>DeviceProtection</th>\n",
       "      <th>TechSupport</th>\n",
       "      <th>StreamingTV</th>\n",
       "      <th>StreamingMovies</th>\n",
       "      <th>Contract</th>\n",
       "      <th>PaperlessBilling</th>\n",
       "      <th>PaymentMethod</th>\n",
       "      <th>MonthlyCharges</th>\n",
       "      <th>TotalCharges</th>\n",
       "      <th>Churn</th>\n",
       "    </tr>\n",
       "  </thead>\n",
       "  <tbody>\n",
       "    <tr>\n",
       "      <th>488</th>\n",
       "      <td>Female</td>\n",
       "      <td>No</td>\n",
       "      <td>Yes</td>\n",
       "      <td>Yes</td>\n",
       "      <td>0</td>\n",
       "      <td>No</td>\n",
       "      <td>No phone service</td>\n",
       "      <td>DSL</td>\n",
       "      <td>Yes</td>\n",
       "      <td>No</td>\n",
       "      <td>Yes</td>\n",
       "      <td>Yes</td>\n",
       "      <td>Yes</td>\n",
       "      <td>No</td>\n",
       "      <td>Two year</td>\n",
       "      <td>Yes</td>\n",
       "      <td>Bank transfer (automatic)</td>\n",
       "      <td>52.55</td>\n",
       "      <td>NaN</td>\n",
       "      <td>No</td>\n",
       "    </tr>\n",
       "    <tr>\n",
       "      <th>753</th>\n",
       "      <td>Male</td>\n",
       "      <td>No</td>\n",
       "      <td>No</td>\n",
       "      <td>Yes</td>\n",
       "      <td>0</td>\n",
       "      <td>Yes</td>\n",
       "      <td>No</td>\n",
       "      <td>No</td>\n",
       "      <td>No internet service</td>\n",
       "      <td>No internet service</td>\n",
       "      <td>No internet service</td>\n",
       "      <td>No internet service</td>\n",
       "      <td>No internet service</td>\n",
       "      <td>No internet service</td>\n",
       "      <td>Two year</td>\n",
       "      <td>No</td>\n",
       "      <td>Mailed check</td>\n",
       "      <td>20.25</td>\n",
       "      <td>NaN</td>\n",
       "      <td>No</td>\n",
       "    </tr>\n",
       "    <tr>\n",
       "      <th>936</th>\n",
       "      <td>Female</td>\n",
       "      <td>No</td>\n",
       "      <td>Yes</td>\n",
       "      <td>Yes</td>\n",
       "      <td>0</td>\n",
       "      <td>Yes</td>\n",
       "      <td>No</td>\n",
       "      <td>DSL</td>\n",
       "      <td>Yes</td>\n",
       "      <td>Yes</td>\n",
       "      <td>Yes</td>\n",
       "      <td>No</td>\n",
       "      <td>Yes</td>\n",
       "      <td>Yes</td>\n",
       "      <td>Two year</td>\n",
       "      <td>No</td>\n",
       "      <td>Mailed check</td>\n",
       "      <td>80.85</td>\n",
       "      <td>NaN</td>\n",
       "      <td>No</td>\n",
       "    </tr>\n",
       "    <tr>\n",
       "      <th>1082</th>\n",
       "      <td>Male</td>\n",
       "      <td>No</td>\n",
       "      <td>Yes</td>\n",
       "      <td>Yes</td>\n",
       "      <td>0</td>\n",
       "      <td>Yes</td>\n",
       "      <td>Yes</td>\n",
       "      <td>No</td>\n",
       "      <td>No internet service</td>\n",
       "      <td>No internet service</td>\n",
       "      <td>No internet service</td>\n",
       "      <td>No internet service</td>\n",
       "      <td>No internet service</td>\n",
       "      <td>No internet service</td>\n",
       "      <td>Two year</td>\n",
       "      <td>No</td>\n",
       "      <td>Mailed check</td>\n",
       "      <td>25.75</td>\n",
       "      <td>NaN</td>\n",
       "      <td>No</td>\n",
       "    </tr>\n",
       "    <tr>\n",
       "      <th>1340</th>\n",
       "      <td>Female</td>\n",
       "      <td>No</td>\n",
       "      <td>Yes</td>\n",
       "      <td>Yes</td>\n",
       "      <td>0</td>\n",
       "      <td>No</td>\n",
       "      <td>No phone service</td>\n",
       "      <td>DSL</td>\n",
       "      <td>Yes</td>\n",
       "      <td>Yes</td>\n",
       "      <td>Yes</td>\n",
       "      <td>Yes</td>\n",
       "      <td>Yes</td>\n",
       "      <td>No</td>\n",
       "      <td>Two year</td>\n",
       "      <td>No</td>\n",
       "      <td>Credit card (automatic)</td>\n",
       "      <td>56.05</td>\n",
       "      <td>NaN</td>\n",
       "      <td>No</td>\n",
       "    </tr>\n",
       "    <tr>\n",
       "      <th>3331</th>\n",
       "      <td>Male</td>\n",
       "      <td>No</td>\n",
       "      <td>Yes</td>\n",
       "      <td>Yes</td>\n",
       "      <td>0</td>\n",
       "      <td>Yes</td>\n",
       "      <td>No</td>\n",
       "      <td>No</td>\n",
       "      <td>No internet service</td>\n",
       "      <td>No internet service</td>\n",
       "      <td>No internet service</td>\n",
       "      <td>No internet service</td>\n",
       "      <td>No internet service</td>\n",
       "      <td>No internet service</td>\n",
       "      <td>Two year</td>\n",
       "      <td>No</td>\n",
       "      <td>Mailed check</td>\n",
       "      <td>19.85</td>\n",
       "      <td>NaN</td>\n",
       "      <td>No</td>\n",
       "    </tr>\n",
       "    <tr>\n",
       "      <th>3826</th>\n",
       "      <td>Male</td>\n",
       "      <td>No</td>\n",
       "      <td>Yes</td>\n",
       "      <td>Yes</td>\n",
       "      <td>0</td>\n",
       "      <td>Yes</td>\n",
       "      <td>Yes</td>\n",
       "      <td>No</td>\n",
       "      <td>No internet service</td>\n",
       "      <td>No internet service</td>\n",
       "      <td>No internet service</td>\n",
       "      <td>No internet service</td>\n",
       "      <td>No internet service</td>\n",
       "      <td>No internet service</td>\n",
       "      <td>Two year</td>\n",
       "      <td>No</td>\n",
       "      <td>Mailed check</td>\n",
       "      <td>25.35</td>\n",
       "      <td>NaN</td>\n",
       "      <td>No</td>\n",
       "    </tr>\n",
       "    <tr>\n",
       "      <th>4380</th>\n",
       "      <td>Female</td>\n",
       "      <td>No</td>\n",
       "      <td>Yes</td>\n",
       "      <td>Yes</td>\n",
       "      <td>0</td>\n",
       "      <td>Yes</td>\n",
       "      <td>No</td>\n",
       "      <td>No</td>\n",
       "      <td>No internet service</td>\n",
       "      <td>No internet service</td>\n",
       "      <td>No internet service</td>\n",
       "      <td>No internet service</td>\n",
       "      <td>No internet service</td>\n",
       "      <td>No internet service</td>\n",
       "      <td>Two year</td>\n",
       "      <td>No</td>\n",
       "      <td>Mailed check</td>\n",
       "      <td>20.00</td>\n",
       "      <td>NaN</td>\n",
       "      <td>No</td>\n",
       "    </tr>\n",
       "    <tr>\n",
       "      <th>5218</th>\n",
       "      <td>Male</td>\n",
       "      <td>No</td>\n",
       "      <td>Yes</td>\n",
       "      <td>Yes</td>\n",
       "      <td>0</td>\n",
       "      <td>Yes</td>\n",
       "      <td>No</td>\n",
       "      <td>No</td>\n",
       "      <td>No internet service</td>\n",
       "      <td>No internet service</td>\n",
       "      <td>No internet service</td>\n",
       "      <td>No internet service</td>\n",
       "      <td>No internet service</td>\n",
       "      <td>No internet service</td>\n",
       "      <td>One year</td>\n",
       "      <td>Yes</td>\n",
       "      <td>Mailed check</td>\n",
       "      <td>19.70</td>\n",
       "      <td>NaN</td>\n",
       "      <td>No</td>\n",
       "    </tr>\n",
       "    <tr>\n",
       "      <th>6670</th>\n",
       "      <td>Female</td>\n",
       "      <td>No</td>\n",
       "      <td>Yes</td>\n",
       "      <td>Yes</td>\n",
       "      <td>0</td>\n",
       "      <td>Yes</td>\n",
       "      <td>Yes</td>\n",
       "      <td>DSL</td>\n",
       "      <td>No</td>\n",
       "      <td>Yes</td>\n",
       "      <td>Yes</td>\n",
       "      <td>Yes</td>\n",
       "      <td>Yes</td>\n",
       "      <td>No</td>\n",
       "      <td>Two year</td>\n",
       "      <td>No</td>\n",
       "      <td>Mailed check</td>\n",
       "      <td>73.35</td>\n",
       "      <td>NaN</td>\n",
       "      <td>No</td>\n",
       "    </tr>\n",
       "    <tr>\n",
       "      <th>6754</th>\n",
       "      <td>Male</td>\n",
       "      <td>No</td>\n",
       "      <td>No</td>\n",
       "      <td>Yes</td>\n",
       "      <td>0</td>\n",
       "      <td>Yes</td>\n",
       "      <td>Yes</td>\n",
       "      <td>DSL</td>\n",
       "      <td>Yes</td>\n",
       "      <td>Yes</td>\n",
       "      <td>No</td>\n",
       "      <td>Yes</td>\n",
       "      <td>No</td>\n",
       "      <td>No</td>\n",
       "      <td>Two year</td>\n",
       "      <td>Yes</td>\n",
       "      <td>Bank transfer (automatic)</td>\n",
       "      <td>61.90</td>\n",
       "      <td>NaN</td>\n",
       "      <td>No</td>\n",
       "    </tr>\n",
       "  </tbody>\n",
       "</table>\n",
       "</div>"
      ],
      "text/plain": [
       "      Gender SeniorCitizen Partner Dependents  Tenure PhoneService  \\\n",
       "488   Female            No     Yes        Yes       0           No   \n",
       "753     Male            No      No        Yes       0          Yes   \n",
       "936   Female            No     Yes        Yes       0          Yes   \n",
       "1082    Male            No     Yes        Yes       0          Yes   \n",
       "1340  Female            No     Yes        Yes       0           No   \n",
       "3331    Male            No     Yes        Yes       0          Yes   \n",
       "3826    Male            No     Yes        Yes       0          Yes   \n",
       "4380  Female            No     Yes        Yes       0          Yes   \n",
       "5218    Male            No     Yes        Yes       0          Yes   \n",
       "6670  Female            No     Yes        Yes       0          Yes   \n",
       "6754    Male            No      No        Yes       0          Yes   \n",
       "\n",
       "         MultipleLines InternetService       OnlineSecurity  \\\n",
       "488   No phone service             DSL                  Yes   \n",
       "753                 No              No  No internet service   \n",
       "936                 No             DSL                  Yes   \n",
       "1082               Yes              No  No internet service   \n",
       "1340  No phone service             DSL                  Yes   \n",
       "3331                No              No  No internet service   \n",
       "3826               Yes              No  No internet service   \n",
       "4380                No              No  No internet service   \n",
       "5218                No              No  No internet service   \n",
       "6670               Yes             DSL                   No   \n",
       "6754               Yes             DSL                  Yes   \n",
       "\n",
       "             OnlineBackup     DeviceProtection          TechSupport  \\\n",
       "488                    No                  Yes                  Yes   \n",
       "753   No internet service  No internet service  No internet service   \n",
       "936                   Yes                  Yes                   No   \n",
       "1082  No internet service  No internet service  No internet service   \n",
       "1340                  Yes                  Yes                  Yes   \n",
       "3331  No internet service  No internet service  No internet service   \n",
       "3826  No internet service  No internet service  No internet service   \n",
       "4380  No internet service  No internet service  No internet service   \n",
       "5218  No internet service  No internet service  No internet service   \n",
       "6670                  Yes                  Yes                  Yes   \n",
       "6754                  Yes                   No                  Yes   \n",
       "\n",
       "              StreamingTV      StreamingMovies  Contract PaperlessBilling  \\\n",
       "488                   Yes                   No  Two year              Yes   \n",
       "753   No internet service  No internet service  Two year               No   \n",
       "936                   Yes                  Yes  Two year               No   \n",
       "1082  No internet service  No internet service  Two year               No   \n",
       "1340                  Yes                   No  Two year               No   \n",
       "3331  No internet service  No internet service  Two year               No   \n",
       "3826  No internet service  No internet service  Two year               No   \n",
       "4380  No internet service  No internet service  Two year               No   \n",
       "5218  No internet service  No internet service  One year              Yes   \n",
       "6670                  Yes                   No  Two year               No   \n",
       "6754                   No                   No  Two year              Yes   \n",
       "\n",
       "                  PaymentMethod  MonthlyCharges TotalCharges Churn  \n",
       "488   Bank transfer (automatic)           52.55          NaN    No  \n",
       "753                Mailed check           20.25          NaN    No  \n",
       "936                Mailed check           80.85          NaN    No  \n",
       "1082               Mailed check           25.75          NaN    No  \n",
       "1340    Credit card (automatic)           56.05          NaN    No  \n",
       "3331               Mailed check           19.85          NaN    No  \n",
       "3826               Mailed check           25.35          NaN    No  \n",
       "4380               Mailed check           20.00          NaN    No  \n",
       "5218               Mailed check           19.70          NaN    No  \n",
       "6670               Mailed check           73.35          NaN    No  \n",
       "6754  Bank transfer (automatic)           61.90          NaN    No  "
      ]
     },
     "execution_count": 15,
     "metadata": {},
     "output_type": "execute_result"
    }
   ],
   "source": [
    "data[data.isnull().any(axis=1)]"
   ]
  },
  {
   "cell_type": "code",
   "execution_count": 16,
   "metadata": {},
   "outputs": [],
   "source": [
    "data['TotalCharges'] = data['TotalCharges'].fillna(0)"
   ]
  },
  {
   "cell_type": "markdown",
   "metadata": {},
   "source": [
    "11 rows which have na value represent very small proportion in 7043 rows. Since tenure of the rows are 0, they can be filled with 0 to obtain missing value treatment."
   ]
  },
  {
   "cell_type": "code",
   "execution_count": 17,
   "metadata": {},
   "outputs": [
    {
     "data": {
      "text/plain": [
       "Gender              0\n",
       "SeniorCitizen       0\n",
       "Partner             0\n",
       "Dependents          0\n",
       "Tenure              0\n",
       "PhoneService        0\n",
       "MultipleLines       0\n",
       "InternetService     0\n",
       "OnlineSecurity      0\n",
       "OnlineBackup        0\n",
       "DeviceProtection    0\n",
       "TechSupport         0\n",
       "StreamingTV         0\n",
       "StreamingMovies     0\n",
       "Contract            0\n",
       "PaperlessBilling    0\n",
       "PaymentMethod       0\n",
       "MonthlyCharges      0\n",
       "TotalCharges        0\n",
       "Churn               0\n",
       "dtype: int64"
      ]
     },
     "execution_count": 17,
     "metadata": {},
     "output_type": "execute_result"
    }
   ],
   "source": [
    "data.isna().sum()"
   ]
  },
  {
   "cell_type": "markdown",
   "metadata": {},
   "source": [
    "Changing the data type of 'TotalCharges':"
   ]
  },
  {
   "cell_type": "code",
   "execution_count": 18,
   "metadata": {
    "scrolled": true
   },
   "outputs": [],
   "source": [
    "data['TotalCharges'] = data['TotalCharges'].astype(float)"
   ]
  },
  {
   "cell_type": "markdown",
   "metadata": {},
   "source": [
    "<br><br>"
   ]
  },
  {
   "cell_type": "markdown",
   "metadata": {},
   "source": [
    "<h2>3.2. Outlier Treatment</h2>"
   ]
  },
  {
   "cell_type": "markdown",
   "metadata": {},
   "source": [
    "Identifying the outliers in continuous variables based on IQR Score Method:"
   ]
  },
  {
   "cell_type": "code",
   "execution_count": 19,
   "metadata": {},
   "outputs": [
    {
     "name": "stdout",
     "output_type": "stream",
     "text": [
      "Series([], Name: Tenure, dtype: int64)\n",
      "Series([], Name: MonthlyCharges, dtype: float64)\n",
      "Series([], Name: TotalCharges, dtype: float64)\n"
     ]
    }
   ],
   "source": [
    "def find_outliers(data, column_list):\n",
    "    for i in column_list:\n",
    "        Q1 = data[i].quantile(0.25)\n",
    "        Q3 = data[i].quantile(0.75)\n",
    "        IQR = Q3 - Q1\n",
    "        print(data[i][(data[i] < (Q1 - 1.5 * IQR)) | (data[i] > (Q3 + 1.5 * IQR))])\n",
    "find_outliers(data, ['Tenure', 'MonthlyCharges', 'TotalCharges'])"
   ]
  },
  {
   "cell_type": "markdown",
   "metadata": {},
   "source": [
    "It can be seen that columns do not contain any outliers."
   ]
  },
  {
   "cell_type": "markdown",
   "metadata": {},
   "source": [
    "<br><br>"
   ]
  },
  {
   "cell_type": "markdown",
   "metadata": {},
   "source": [
    "<h2>3.3. Univariate Analysis</h2>\n"
   ]
  },
  {
   "cell_type": "markdown",
   "metadata": {},
   "source": [
    "Firstly, target variable should be set and other variables should be split into 2 groups as categorical and numerical variables to make the analysis easier."
   ]
  },
  {
   "cell_type": "code",
   "execution_count": 20,
   "metadata": {},
   "outputs": [],
   "source": [
    "features = data.drop('Churn', axis=1)\n",
    "target = pd.DataFrame(data['Churn'], columns=['Churn'])"
   ]
  },
  {
   "cell_type": "code",
   "execution_count": 21,
   "metadata": {},
   "outputs": [],
   "source": [
    "nums = features[['Tenure', 'MonthlyCharges', 'TotalCharges']]\n",
    "cats = features.drop(['Tenure', 'MonthlyCharges', 'TotalCharges'], axis=1)"
   ]
  },
  {
   "cell_type": "markdown",
   "metadata": {},
   "source": [
    "<br><h3>3.3.1. Categorical</h3>"
   ]
  },
  {
   "cell_type": "markdown",
   "metadata": {},
   "source": [
    "<b>Count%</b>"
   ]
  },
  {
   "cell_type": "code",
   "execution_count": 22,
   "metadata": {
    "scrolled": true
   },
   "outputs": [
    {
     "data": {
      "text/plain": [
       "No     0.73\n",
       "Yes    0.27\n",
       "Name: Churn, dtype: float64"
      ]
     },
     "execution_count": 22,
     "metadata": {},
     "output_type": "execute_result"
    }
   ],
   "source": [
    "round(target['Churn'].value_counts(normalize=True), 2)"
   ]
  },
  {
   "cell_type": "markdown",
   "metadata": {},
   "source": [
    "The customers who stop doing business with the company represent %27 of the data.  \n",
    "<br>\n",
    "Hence, it can be said that this is an unbalanced data."
   ]
  },
  {
   "cell_type": "code",
   "execution_count": 23,
   "metadata": {
    "scrolled": false
   },
   "outputs": [
    {
     "name": "stdout",
     "output_type": "stream",
     "text": [
      "Male      0.5\n",
      "Female    0.5\n",
      "Name: Gender, dtype: float64\n",
      "\n",
      "\n",
      "No     0.84\n",
      "Yes    0.16\n",
      "Name: SeniorCitizen, dtype: float64\n",
      "\n",
      "\n",
      "No     0.52\n",
      "Yes    0.48\n",
      "Name: Partner, dtype: float64\n",
      "\n",
      "\n",
      "No     0.7\n",
      "Yes    0.3\n",
      "Name: Dependents, dtype: float64\n",
      "\n",
      "\n",
      "Yes    0.9\n",
      "No     0.1\n",
      "Name: PhoneService, dtype: float64\n",
      "\n",
      "\n",
      "No                  0.48\n",
      "Yes                 0.42\n",
      "No phone service    0.10\n",
      "Name: MultipleLines, dtype: float64\n",
      "\n",
      "\n",
      "Fiber optic    0.44\n",
      "DSL            0.34\n",
      "No             0.22\n",
      "Name: InternetService, dtype: float64\n",
      "\n",
      "\n",
      "No                     0.50\n",
      "Yes                    0.29\n",
      "No internet service    0.22\n",
      "Name: OnlineSecurity, dtype: float64\n",
      "\n",
      "\n",
      "No                     0.44\n",
      "Yes                    0.34\n",
      "No internet service    0.22\n",
      "Name: OnlineBackup, dtype: float64\n",
      "\n",
      "\n",
      "No                     0.44\n",
      "Yes                    0.34\n",
      "No internet service    0.22\n",
      "Name: DeviceProtection, dtype: float64\n",
      "\n",
      "\n",
      "No                     0.49\n",
      "Yes                    0.29\n",
      "No internet service    0.22\n",
      "Name: TechSupport, dtype: float64\n",
      "\n",
      "\n",
      "No                     0.40\n",
      "Yes                    0.38\n",
      "No internet service    0.22\n",
      "Name: StreamingTV, dtype: float64\n",
      "\n",
      "\n",
      "No                     0.40\n",
      "Yes                    0.39\n",
      "No internet service    0.22\n",
      "Name: StreamingMovies, dtype: float64\n",
      "\n",
      "\n",
      "Month-to-month    0.55\n",
      "Two year          0.24\n",
      "One year          0.21\n",
      "Name: Contract, dtype: float64\n",
      "\n",
      "\n",
      "Yes    0.59\n",
      "No     0.41\n",
      "Name: PaperlessBilling, dtype: float64\n",
      "\n",
      "\n",
      "Electronic check             0.34\n",
      "Mailed check                 0.23\n",
      "Bank transfer (automatic)    0.22\n",
      "Credit card (automatic)      0.22\n",
      "Name: PaymentMethod, dtype: float64\n",
      "\n",
      "\n"
     ]
    }
   ],
   "source": [
    "for i in cats.columns:\n",
    "    print(round(cats[i].value_counts(normalize=True), 2))\n",
    "    print('\\n')"
   ]
  },
  {
   "cell_type": "markdown",
   "metadata": {},
   "source": [
    "<b>Pie Chart</b>"
   ]
  },
  {
   "cell_type": "code",
   "execution_count": 24,
   "metadata": {
    "scrolled": false
   },
   "outputs": [
    {
     "name": "stdout",
     "output_type": "stream",
     "text": [
      "\n",
      "\n",
      "\t\tGender\n"
     ]
    },
    {
     "data": {
      "image/png": "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\n",
      "text/plain": [
       "<Figure size 432x288 with 1 Axes>"
      ]
     },
     "metadata": {},
     "output_type": "display_data"
    },
    {
     "name": "stdout",
     "output_type": "stream",
     "text": [
      "---------------------------------------------\n",
      "\n",
      "\n",
      "\t\tSeniorCitizen\n"
     ]
    },
    {
     "data": {
      "image/png": "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\n",
      "text/plain": [
       "<Figure size 432x288 with 1 Axes>"
      ]
     },
     "metadata": {},
     "output_type": "display_data"
    },
    {
     "name": "stdout",
     "output_type": "stream",
     "text": [
      "---------------------------------------------\n",
      "\n",
      "\n",
      "\t\tPartner\n"
     ]
    },
    {
     "data": {
      "image/png": "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\n",
      "text/plain": [
       "<Figure size 432x288 with 1 Axes>"
      ]
     },
     "metadata": {},
     "output_type": "display_data"
    },
    {
     "name": "stdout",
     "output_type": "stream",
     "text": [
      "---------------------------------------------\n",
      "\n",
      "\n",
      "\t\tDependents\n"
     ]
    },
    {
     "data": {
      "image/png": "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\n",
      "text/plain": [
       "<Figure size 432x288 with 1 Axes>"
      ]
     },
     "metadata": {},
     "output_type": "display_data"
    },
    {
     "name": "stdout",
     "output_type": "stream",
     "text": [
      "---------------------------------------------\n",
      "\n",
      "\n",
      "\t\tPhoneService\n"
     ]
    },
    {
     "data": {
      "image/png": "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\n",
      "text/plain": [
       "<Figure size 432x288 with 1 Axes>"
      ]
     },
     "metadata": {},
     "output_type": "display_data"
    },
    {
     "name": "stdout",
     "output_type": "stream",
     "text": [
      "---------------------------------------------\n",
      "\n",
      "\n",
      "\t\tMultipleLines\n"
     ]
    },
    {
     "data": {
      "image/png": "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\n",
      "text/plain": [
       "<Figure size 432x288 with 1 Axes>"
      ]
     },
     "metadata": {},
     "output_type": "display_data"
    },
    {
     "name": "stdout",
     "output_type": "stream",
     "text": [
      "---------------------------------------------\n",
      "\n",
      "\n",
      "\t\tInternetService\n"
     ]
    },
    {
     "data": {
      "image/png": "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\n",
      "text/plain": [
       "<Figure size 432x288 with 1 Axes>"
      ]
     },
     "metadata": {},
     "output_type": "display_data"
    },
    {
     "name": "stdout",
     "output_type": "stream",
     "text": [
      "---------------------------------------------\n",
      "\n",
      "\n",
      "\t\tOnlineSecurity\n"
     ]
    },
    {
     "data": {
      "image/png": "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\n",
      "text/plain": [
       "<Figure size 432x288 with 1 Axes>"
      ]
     },
     "metadata": {},
     "output_type": "display_data"
    },
    {
     "name": "stdout",
     "output_type": "stream",
     "text": [
      "---------------------------------------------\n",
      "\n",
      "\n",
      "\t\tOnlineBackup\n"
     ]
    },
    {
     "data": {
      "image/png": "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\n",
      "text/plain": [
       "<Figure size 432x288 with 1 Axes>"
      ]
     },
     "metadata": {},
     "output_type": "display_data"
    },
    {
     "name": "stdout",
     "output_type": "stream",
     "text": [
      "---------------------------------------------\n",
      "\n",
      "\n",
      "\t\tDeviceProtection\n"
     ]
    },
    {
     "data": {
      "image/png": "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\n",
      "text/plain": [
       "<Figure size 432x288 with 1 Axes>"
      ]
     },
     "metadata": {},
     "output_type": "display_data"
    },
    {
     "name": "stdout",
     "output_type": "stream",
     "text": [
      "---------------------------------------------\n",
      "\n",
      "\n",
      "\t\tTechSupport\n"
     ]
    },
    {
     "data": {
      "image/png": "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\n",
      "text/plain": [
       "<Figure size 432x288 with 1 Axes>"
      ]
     },
     "metadata": {},
     "output_type": "display_data"
    },
    {
     "name": "stdout",
     "output_type": "stream",
     "text": [
      "---------------------------------------------\n",
      "\n",
      "\n",
      "\t\tStreamingTV\n"
     ]
    },
    {
     "data": {
      "image/png": "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\n",
      "text/plain": [
       "<Figure size 432x288 with 1 Axes>"
      ]
     },
     "metadata": {},
     "output_type": "display_data"
    },
    {
     "name": "stdout",
     "output_type": "stream",
     "text": [
      "---------------------------------------------\n",
      "\n",
      "\n",
      "\t\tStreamingMovies\n"
     ]
    },
    {
     "data": {
      "image/png": "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\n",
      "text/plain": [
       "<Figure size 432x288 with 1 Axes>"
      ]
     },
     "metadata": {},
     "output_type": "display_data"
    },
    {
     "name": "stdout",
     "output_type": "stream",
     "text": [
      "---------------------------------------------\n",
      "\n",
      "\n",
      "\t\tContract\n"
     ]
    },
    {
     "data": {
      "image/png": "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\n",
      "text/plain": [
       "<Figure size 432x288 with 1 Axes>"
      ]
     },
     "metadata": {},
     "output_type": "display_data"
    },
    {
     "name": "stdout",
     "output_type": "stream",
     "text": [
      "---------------------------------------------\n",
      "\n",
      "\n",
      "\t\tPaperlessBilling\n"
     ]
    },
    {
     "data": {
      "image/png": "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\n",
      "text/plain": [
       "<Figure size 432x288 with 1 Axes>"
      ]
     },
     "metadata": {},
     "output_type": "display_data"
    },
    {
     "name": "stdout",
     "output_type": "stream",
     "text": [
      "---------------------------------------------\n",
      "\n",
      "\n",
      "\t\tPaymentMethod\n"
     ]
    },
    {
     "data": {
      "image/png": "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\n",
      "text/plain": [
       "<Figure size 432x288 with 1 Axes>"
      ]
     },
     "metadata": {},
     "output_type": "display_data"
    },
    {
     "name": "stdout",
     "output_type": "stream",
     "text": [
      "---------------------------------------------\n"
     ]
    }
   ],
   "source": [
    "for i in cats.columns:\n",
    "    print('\\n')\n",
    "    print('\\t'*2 + i)\n",
    "    plt.pie(cats[i].value_counts(normalize = True), labels=cats[i].unique(), autopct='%1.1f%%', startangle=90)\n",
    "    plt.axis('equal')\n",
    "    plt.show()\n",
    "    print('-'*45)"
   ]
  },
  {
   "cell_type": "markdown",
   "metadata": {},
   "source": [
    "The outputs show that while some variables are balanced some are imbalanced. The imbalanced variables are as below:  \n",
    "<br>\n",
    "84% of the customers are not senior citizen.  \n",
    "70% of the customers does not have dependents.  \n",
    "71% of the customers does not have online security.  \n",
    "71% of the customers does not have tech support.  \n",
    "90% of the customers have phone service."
   ]
  },
  {
   "cell_type": "markdown",
   "metadata": {},
   "source": [
    "<br><h3>3.3.2. Numerical</h3>"
   ]
  },
  {
   "cell_type": "code",
   "execution_count": 25,
   "metadata": {
    "scrolled": true
   },
   "outputs": [
    {
     "data": {
      "text/html": [
       "<div>\n",
       "<style scoped>\n",
       "    .dataframe tbody tr th:only-of-type {\n",
       "        vertical-align: middle;\n",
       "    }\n",
       "\n",
       "    .dataframe tbody tr th {\n",
       "        vertical-align: top;\n",
       "    }\n",
       "\n",
       "    .dataframe thead th {\n",
       "        text-align: right;\n",
       "    }\n",
       "</style>\n",
       "<table border=\"1\" class=\"dataframe\">\n",
       "  <thead>\n",
       "    <tr style=\"text-align: right;\">\n",
       "      <th></th>\n",
       "      <th>Tenure</th>\n",
       "      <th>MonthlyCharges</th>\n",
       "      <th>TotalCharges</th>\n",
       "    </tr>\n",
       "  </thead>\n",
       "  <tbody>\n",
       "    <tr>\n",
       "      <th>count</th>\n",
       "      <td>7043.000000</td>\n",
       "      <td>7043.000000</td>\n",
       "      <td>7043.000000</td>\n",
       "    </tr>\n",
       "    <tr>\n",
       "      <th>mean</th>\n",
       "      <td>32.371149</td>\n",
       "      <td>64.761692</td>\n",
       "      <td>2279.734304</td>\n",
       "    </tr>\n",
       "    <tr>\n",
       "      <th>std</th>\n",
       "      <td>24.559481</td>\n",
       "      <td>30.090047</td>\n",
       "      <td>2266.794470</td>\n",
       "    </tr>\n",
       "    <tr>\n",
       "      <th>min</th>\n",
       "      <td>0.000000</td>\n",
       "      <td>18.250000</td>\n",
       "      <td>0.000000</td>\n",
       "    </tr>\n",
       "    <tr>\n",
       "      <th>25%</th>\n",
       "      <td>9.000000</td>\n",
       "      <td>35.500000</td>\n",
       "      <td>398.550000</td>\n",
       "    </tr>\n",
       "    <tr>\n",
       "      <th>50%</th>\n",
       "      <td>29.000000</td>\n",
       "      <td>70.350000</td>\n",
       "      <td>1394.550000</td>\n",
       "    </tr>\n",
       "    <tr>\n",
       "      <th>75%</th>\n",
       "      <td>55.000000</td>\n",
       "      <td>89.850000</td>\n",
       "      <td>3786.600000</td>\n",
       "    </tr>\n",
       "    <tr>\n",
       "      <th>max</th>\n",
       "      <td>72.000000</td>\n",
       "      <td>118.750000</td>\n",
       "      <td>8684.800000</td>\n",
       "    </tr>\n",
       "  </tbody>\n",
       "</table>\n",
       "</div>"
      ],
      "text/plain": [
       "            Tenure  MonthlyCharges  TotalCharges\n",
       "count  7043.000000     7043.000000   7043.000000\n",
       "mean     32.371149       64.761692   2279.734304\n",
       "std      24.559481       30.090047   2266.794470\n",
       "min       0.000000       18.250000      0.000000\n",
       "25%       9.000000       35.500000    398.550000\n",
       "50%      29.000000       70.350000   1394.550000\n",
       "75%      55.000000       89.850000   3786.600000\n",
       "max      72.000000      118.750000   8684.800000"
      ]
     },
     "execution_count": 25,
     "metadata": {},
     "output_type": "execute_result"
    }
   ],
   "source": [
    "nums.describe()"
   ]
  },
  {
   "cell_type": "code",
   "execution_count": 26,
   "metadata": {
    "scrolled": true
   },
   "outputs": [
    {
     "name": "stdout",
     "output_type": "stream",
     "text": [
      "-----Variance-----\n",
      "Tenure: 603.17\n",
      "MonthlyCharges: 905.41\n",
      "TotalCharges: 5138357.17\n"
     ]
    }
   ],
   "source": [
    "print('-----Variance-----')\n",
    "for i in nums.columns:\n",
    "    print(i + ': ' + str(round(nums[i].var(), 2)))"
   ]
  },
  {
   "cell_type": "code",
   "execution_count": 27,
   "metadata": {
    "scrolled": false
   },
   "outputs": [
    {
     "name": "stdout",
     "output_type": "stream",
     "text": [
      "-----Coefficient of Variation-----\n",
      "Tenure: 75.87\n",
      "MonthlyCharges: 46.46\n",
      "TotalCharges: 99.43\n"
     ]
    }
   ],
   "source": [
    "print('-----Coefficient of Variation-----')\n",
    "for i in nums.columns:\n",
    "    print(i + ': ' + str(round((nums[i].std() / nums[i].mean()) * 100, 2)))"
   ]
  },
  {
   "cell_type": "code",
   "execution_count": 28,
   "metadata": {},
   "outputs": [
    {
     "data": {
      "text/plain": [
       "Tenure            0.239540\n",
       "MonthlyCharges   -0.220524\n",
       "TotalCharges      0.963235\n",
       "dtype: float64"
      ]
     },
     "execution_count": 28,
     "metadata": {},
     "output_type": "execute_result"
    }
   ],
   "source": [
    "nums.skew()"
   ]
  },
  {
   "cell_type": "markdown",
   "metadata": {},
   "source": [
    "Since the outputs of the 'Tenure' and 'MonthlyCharges' variables are between -0.5 and 0 or 0 and 0.5 it can be said that these variables have symmetrical distribution. However, the output of the 'TotalCharges' variable is between 0.5 and 1, thus this variable is moderately (and positively) skewed."
   ]
  },
  {
   "cell_type": "code",
   "execution_count": 29,
   "metadata": {},
   "outputs": [
    {
     "data": {
      "text/plain": [
       "Tenure           -1.387372\n",
       "MonthlyCharges   -1.257260\n",
       "TotalCharges     -0.228580\n",
       "dtype: float64"
      ]
     },
     "execution_count": 29,
     "metadata": {},
     "output_type": "execute_result"
    }
   ],
   "source": [
    "nums.kurtosis()"
   ]
  },
  {
   "cell_type": "markdown",
   "metadata": {},
   "source": [
    "All variables have low kurtosis which is an indicator that data has light tails or lack of outliers. In addition, distribution is shorter, tails are thinner than the normal distribution."
   ]
  },
  {
   "cell_type": "markdown",
   "metadata": {},
   "source": [
    "<br>\n",
    "<b>Histogram, Box Plot</b>"
   ]
  },
  {
   "cell_type": "code",
   "execution_count": 30,
   "metadata": {
    "scrolled": false
   },
   "outputs": [
    {
     "data": {
      "text/plain": [
       "array([[<matplotlib.axes._subplots.AxesSubplot object at 0x1a19a2c908>,\n",
       "        <matplotlib.axes._subplots.AxesSubplot object at 0x105af6dd8>],\n",
       "       [<matplotlib.axes._subplots.AxesSubplot object at 0x1a19cf2a90>,\n",
       "        <matplotlib.axes._subplots.AxesSubplot object at 0x1a19d17cf8>]],\n",
       "      dtype=object)"
      ]
     },
     "execution_count": 30,
     "metadata": {},
     "output_type": "execute_result"
    },
    {
     "data": {
      "image/png": "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\n",
      "text/plain": [
       "<Figure size 1080x504 with 4 Axes>"
      ]
     },
     "metadata": {
      "needs_background": "light"
     },
     "output_type": "display_data"
    }
   ],
   "source": [
    "nums.hist(bins=10, figsize=(15, 7))"
   ]
  },
  {
   "cell_type": "code",
   "execution_count": 31,
   "metadata": {
    "scrolled": true
   },
   "outputs": [
    {
     "data": {
      "text/plain": [
       "<matplotlib.axes._subplots.AxesSubplot at 0x1a1a3d5dd8>"
      ]
     },
     "execution_count": 31,
     "metadata": {},
     "output_type": "execute_result"
    },
    {
     "data": {
      "image/png": "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\n",
      "text/plain": [
       "<Figure size 432x288 with 1 Axes>"
      ]
     },
     "metadata": {
      "needs_background": "light"
     },
     "output_type": "display_data"
    }
   ],
   "source": [
    "sns.boxplot(x=nums['Tenure'])"
   ]
  },
  {
   "cell_type": "code",
   "execution_count": 32,
   "metadata": {
    "scrolled": true
   },
   "outputs": [
    {
     "data": {
      "text/plain": [
       "<matplotlib.axes._subplots.AxesSubplot at 0x1a1a645080>"
      ]
     },
     "execution_count": 32,
     "metadata": {},
     "output_type": "execute_result"
    },
    {
     "data": {
      "image/png": "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\n",
      "text/plain": [
       "<Figure size 432x288 with 1 Axes>"
      ]
     },
     "metadata": {
      "needs_background": "light"
     },
     "output_type": "display_data"
    }
   ],
   "source": [
    "sns.boxplot(x=nums['MonthlyCharges'])"
   ]
  },
  {
   "cell_type": "code",
   "execution_count": 33,
   "metadata": {
    "scrolled": true
   },
   "outputs": [
    {
     "data": {
      "text/plain": [
       "<matplotlib.axes._subplots.AxesSubplot at 0x1a1a5e8ba8>"
      ]
     },
     "execution_count": 33,
     "metadata": {},
     "output_type": "execute_result"
    },
    {
     "data": {
      "image/png": "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\n",
      "text/plain": [
       "<Figure size 432x288 with 1 Axes>"
      ]
     },
     "metadata": {
      "needs_background": "light"
     },
     "output_type": "display_data"
    }
   ],
   "source": [
    "sns.boxplot(x=nums['TotalCharges'])"
   ]
  },
  {
   "cell_type": "markdown",
   "metadata": {},
   "source": [
    "<br><br>"
   ]
  },
  {
   "cell_type": "markdown",
   "metadata": {},
   "source": [
    "<h2>3.4. Bivariate Analysis</h2>"
   ]
  },
  {
   "cell_type": "markdown",
   "metadata": {},
   "source": [
    "<h3>3.4.1. Categorical & Categorical</h3>"
   ]
  },
  {
   "cell_type": "markdown",
   "metadata": {},
   "source": [
    "<b>Chi-Square Test</b>"
   ]
  },
  {
   "cell_type": "code",
   "execution_count": 34,
   "metadata": {
    "scrolled": false
   },
   "outputs": [
    {
     "name": "stdout",
     "output_type": "stream",
     "text": [
      "Gender - Churn\n",
      "Chi2 Stat :0.4840828822091383\n",
      "Critical Value :3.841458820694124\n",
      "The two distribution are the same.\n",
      "Degrees of Freedom :1\n",
      "P-Value :0.48657873605618596\n",
      "Contingency Table :[[2562.38989067  925.61010933]\n",
      " [2611.61010933  943.38989067]]\n",
      "\n",
      "\n",
      "SeniorCitizen - Churn\n",
      "Chi2 Stat :159.42630036838742\n",
      "Critical Value :3.841458820694124\n",
      "Reject the null hypothesis that the two distribution are the same.\n",
      "Degrees of Freedom :1\n",
      "P-Value :1.510066805092378e-36\n",
      "Contingency Table :[[4335.05239245 1565.94760755]\n",
      " [ 838.94760755  303.05239245]]\n",
      "\n",
      "\n",
      "Partner - Churn\n",
      "Chi2 Stat :158.7333820309922\n",
      "Critical Value :3.841458820694124\n",
      "Reject the null hypothesis that the two distribution are the same.\n",
      "Degrees of Freedom :1\n",
      "P-Value :2.1399113440759935e-36\n",
      "Contingency Table :[[2674.78830044  966.21169956]\n",
      " [2499.21169956  902.78830044]]\n",
      "\n",
      "\n",
      "Dependents - Churn\n",
      "Chi2 Stat :189.12924940423474\n",
      "Critical Value :3.841458820694124\n",
      "Reject the null hypothesis that the two distribution are the same.\n",
      "Degrees of Freedom :1\n",
      "P-Value :4.9249216612154196e-43\n",
      "Contingency Table :[[3623.93042737 1309.06957263]\n",
      " [1550.06957263  559.93042737]]\n",
      "\n",
      "\n",
      "PhoneService - Churn\n",
      "Chi2 Stat :0.9150329892546948\n",
      "Critical Value :3.841458820694124\n",
      "The two distribution are the same.\n",
      "Degrees of Freedom :1\n",
      "P-Value :0.3387825358066928\n",
      "Contingency Table :[[ 501.01774812  180.98225188]\n",
      " [4672.98225188 1688.01774812]]\n",
      "\n",
      "\n",
      "MultipleLines - Churn\n",
      "Chi2 Stat :11.33044148319756\n",
      "Critical Value :5.991464547107979\n",
      "Reject the null hypothesis that the two distribution are the same.\n",
      "Degrees of Freedom :2\n",
      "P-Value :0.0034643829548773\n",
      "Contingency Table :[[2490.39613801  899.60386199]\n",
      " [ 501.01774812  180.98225188]\n",
      " [2182.58611387  788.41388613]]\n",
      "\n",
      "\n",
      "InternetService - Churn\n",
      "Chi2 Stat :732.309589667794\n",
      "Critical Value :5.991464547107979\n",
      "Reject the null hypothesis that the two distribution are the same.\n",
      "Degrees of Freedom :2\n",
      "P-Value :9.571788222840544e-160\n",
      "Contingency Table :[[1778.53954281  642.46045719]\n",
      " [2274.41488002  821.58511998]\n",
      " [1121.04557717  404.95442283]]\n",
      "\n",
      "\n",
      "OnlineSecurity - Churn\n",
      "Chi2 Stat :849.9989679615965\n",
      "Critical Value :5.991464547107979\n",
      "Reject the null hypothesis that the two distribution are the same.\n",
      "Degrees of Freedom :2\n",
      "P-Value :2.661149635176552e-185\n",
      "Contingency Table :[[2569.73619196  928.26380804]\n",
      " [1121.04557717  404.95442283]\n",
      " [1483.21823087  535.78176913]]\n",
      "\n",
      "\n",
      "OnlineBackup - Churn\n",
      "Chi2 Stat :601.812790113409\n",
      "Critical Value :5.991464547107979\n",
      "Reject the null hypothesis that the two distribution are the same.\n",
      "Degrees of Freedom :2\n",
      "P-Value :2.0797592160864276e-131\n",
      "Contingency Table :[[2268.53783899  819.46216101]\n",
      " [1121.04557717  404.95442283]\n",
      " [1784.41658384  644.58341616]]\n",
      "\n",
      "\n",
      "DeviceProtection - Churn\n",
      "Chi2 Stat :558.419369407389\n",
      "Critical Value :5.991464547107979\n",
      "Reject the null hypothesis that the two distribution are the same.\n",
      "Degrees of Freedom :2\n",
      "P-Value :5.505219496457244e-122\n",
      "Contingency Table :[[2273.68024989  821.31975011]\n",
      " [1121.04557717  404.95442283]\n",
      " [1779.27417294  642.72582706]]\n",
      "\n",
      "\n",
      "TechSupport - Churn\n",
      "Chi2 Stat :828.1970684587394\n",
      "Critical Value :5.991464547107979\n",
      "Reject the null hypothesis that the two distribution are the same.\n",
      "Degrees of Freedom :2\n",
      "P-Value :1.4430840279998987e-180\n",
      "Contingency Table :[[2551.37043873  921.62956127]\n",
      " [1121.04557717  404.95442283]\n",
      " [1501.5839841   542.4160159 ]]\n",
      "\n",
      "\n",
      "StreamingTV - Churn\n",
      "Chi2 Stat :374.2039433109813\n",
      "Critical Value :5.991464547107979\n",
      "Reject the null hypothesis that the two distribution are the same.\n",
      "Degrees of Freedom :2\n",
      "P-Value :5.528994485739183e-82\n",
      "Contingency Table :[[2064.31066307  745.68933693]\n",
      " [1121.04557717  404.95442283]\n",
      " [1988.64375976  718.35624024]]\n",
      "\n",
      "\n",
      "StreamingMovies - Churn\n",
      "Chi2 Stat :375.6614793452656\n",
      "Critical Value :5.991464547107979\n",
      "Reject the null hypothesis that the two distribution are the same.\n",
      "Degrees of Freedom :2\n",
      "P-Value :2.667756755723681e-82\n",
      "Contingency Table :[[2045.94490984  739.05509016]\n",
      " [1121.04557717  404.95442283]\n",
      " [2007.00951299  724.99048701]]\n",
      "\n",
      "\n",
      "Contract - Churn\n",
      "Chi2 Stat :1184.5965720837926\n",
      "Critical Value :5.991464547107979\n",
      "Reject the null hypothesis that the two distribution are the same.\n",
      "Degrees of Freedom :2\n",
      "P-Value :5.863038300673391e-258\n",
      "Contingency Table :[[2846.69175067 1028.30824933]\n",
      " [1082.11018032  390.88981968]\n",
      " [1245.198069    449.801931  ]]\n",
      "\n",
      "\n",
      "PaperlessBilling - Churn\n",
      "Chi2 Stat :258.27764906707307\n",
      "Critical Value :3.841458820694124\n",
      "Reject the null hypothesis that the two distribution are the same.\n",
      "Degrees of Freedom :1\n",
      "P-Value :4.073354668665985e-58\n",
      "Contingency Table :[[2109.85773108  762.14226892]\n",
      " [3064.14226892 1106.85773108]]\n",
      "\n",
      "\n",
      "PaymentMethod - Churn\n",
      "Chi2 Stat :648.1423274814\n",
      "Critical Value :7.814727903251179\n",
      "Reject the null hypothesis that the two distribution are the same.\n",
      "Degrees of Freedom :3\n",
      "P-Value :3.6823546520097993e-140\n",
      "Contingency Table :[[1134.26891949  409.73108051]\n",
      " [1118.10705665  403.89294335]\n",
      " [1737.40025557  627.59974443]\n",
      " [1184.22376828  427.77623172]]\n",
      "\n",
      "\n"
     ]
    }
   ],
   "source": [
    "same = []\n",
    "for i in cats.columns:\n",
    "    cont = pd.crosstab(cats[i], target['Churn'])\n",
    "    chi2_stat, p_val, dof, ex = stats.chi2_contingency(cont)\n",
    "    print(i + ' - Churn')\n",
    "    print(\"Chi2 Stat :\" + str(chi2_stat))\n",
    "    print(\"Critical Value :\" + str(stats.chi2.ppf(q = 0.95, df = dof)))\n",
    "    if chi2_stat < stats.chi2.ppf(q = 0.95, df = dof):\n",
    "        same.append(i)\n",
    "        print(\"The two distribution are the same.\")\n",
    "    else:\n",
    "        print(\"Reject the null hypothesis that the two distribution are the same.\")\n",
    "    print(\"Degrees of Freedom :\" + str(dof))\n",
    "    print(\"P-Value :\" + str(p_val))\n",
    "    print(\"Contingency Table :\" + str(ex))\n",
    "    print('\\n')"
   ]
  },
  {
   "cell_type": "code",
   "execution_count": 35,
   "metadata": {
    "scrolled": true
   },
   "outputs": [
    {
     "data": {
      "text/plain": [
       "['Gender', 'PhoneService']"
      ]
     },
     "execution_count": 35,
     "metadata": {},
     "output_type": "execute_result"
    }
   ],
   "source": [
    "same"
   ]
  },
  {
   "cell_type": "markdown",
   "metadata": {},
   "source": [
    "According to the output, it can be understood that 'Gender' and 'PhoneService' are the only variables which have the same distribution since their chi-squared statistics exceeds the critical value."
   ]
  },
  {
   "cell_type": "markdown",
   "metadata": {},
   "source": [
    "<br><br>\n",
    "<b>Bar Charts</b>"
   ]
  },
  {
   "cell_type": "code",
   "execution_count": 36,
   "metadata": {
    "scrolled": false
   },
   "outputs": [
    {
     "data": {
      "image/png": "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\n",
      "text/plain": [
       "<Figure size 432x288 with 1 Axes>"
      ]
     },
     "metadata": {
      "needs_background": "light"
     },
     "output_type": "display_data"
    },
    {
     "data": {
      "image/png": "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\n",
      "text/plain": [
       "<Figure size 432x288 with 1 Axes>"
      ]
     },
     "metadata": {
      "needs_background": "light"
     },
     "output_type": "display_data"
    },
    {
     "data": {
      "image/png": "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\n",
      "text/plain": [
       "<Figure size 432x288 with 1 Axes>"
      ]
     },
     "metadata": {
      "needs_background": "light"
     },
     "output_type": "display_data"
    },
    {
     "data": {
      "image/png": "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\n",
      "text/plain": [
       "<Figure size 432x288 with 1 Axes>"
      ]
     },
     "metadata": {
      "needs_background": "light"
     },
     "output_type": "display_data"
    },
    {
     "data": {
      "image/png": "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\n",
      "text/plain": [
       "<Figure size 432x288 with 1 Axes>"
      ]
     },
     "metadata": {
      "needs_background": "light"
     },
     "output_type": "display_data"
    },
    {
     "data": {
      "image/png": "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\n",
      "text/plain": [
       "<Figure size 432x288 with 1 Axes>"
      ]
     },
     "metadata": {
      "needs_background": "light"
     },
     "output_type": "display_data"
    },
    {
     "data": {
      "image/png": "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\n",
      "text/plain": [
       "<Figure size 432x288 with 1 Axes>"
      ]
     },
     "metadata": {
      "needs_background": "light"
     },
     "output_type": "display_data"
    },
    {
     "data": {
      "image/png": "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\n",
      "text/plain": [
       "<Figure size 432x288 with 1 Axes>"
      ]
     },
     "metadata": {
      "needs_background": "light"
     },
     "output_type": "display_data"
    },
    {
     "data": {
      "image/png": "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\n",
      "text/plain": [
       "<Figure size 432x288 with 1 Axes>"
      ]
     },
     "metadata": {
      "needs_background": "light"
     },
     "output_type": "display_data"
    },
    {
     "data": {
      "image/png": "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\n",
      "text/plain": [
       "<Figure size 432x288 with 1 Axes>"
      ]
     },
     "metadata": {
      "needs_background": "light"
     },
     "output_type": "display_data"
    },
    {
     "data": {
      "image/png": "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\n",
      "text/plain": [
       "<Figure size 432x288 with 1 Axes>"
      ]
     },
     "metadata": {
      "needs_background": "light"
     },
     "output_type": "display_data"
    },
    {
     "data": {
      "image/png": "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\n",
      "text/plain": [
       "<Figure size 432x288 with 1 Axes>"
      ]
     },
     "metadata": {
      "needs_background": "light"
     },
     "output_type": "display_data"
    },
    {
     "data": {
      "image/png": "iVBORw0KGgoAAAANSUhEUgAAAY8AAAEKCAYAAADq59mMAAAABHNCSVQICAgIfAhkiAAAAAlwSFlzAAALEgAACxIB0t1+/AAAADl0RVh0U29mdHdhcmUAbWF0cGxvdGxpYiB2ZXJzaW9uIDMuMC4yLCBodHRwOi8vbWF0cGxvdGxpYi5vcmcvOIA7rQAAHyJJREFUeJzt3XmUVfW55vHvwyAY56HiBQsCodEE0JRSQaMhF4NB5RqnFkWN4NBNTBwzD+YG1OtaetXYIaa1MRIky4gkaNReTmiMtnGiGMIg8QYnrEAUcUQjCfD2H/tX5aGoKs6GM1TB81nrLM5592/veotT1MMezm8rIjAzM8ujS7UbMDOzzsfhYWZmuTk8zMwsN4eHmZnl5vAwM7PcHB5mZpabw8PMzHIrW3hI6iPpUUlLJS2RdHGq7ylptqS/pD/3SHVJmixpmaSFkg4u2Nb4NP4vksaXq2czMyuOyvUhQUm9gF4RMU/SLsBc4ATgLODNiLhK0veBPSLie5JGAxcCo4FDgJ9GxCGS9gQagHog0naGRsRbZWnczMw2q1u5NhwRK4GV6fl7kpYC+wLHAyPSsFuBPwDfS/XpkaXZ05J2TwE0ApgdEW8CSJoNHA3c3t7X33vvvaNfv36l/abMzLZhc+fOfSMiaooZW7bwKCSpH3AQ8AywTwoWImKlpI+nYfsCrxas1phqbdVb+zoTgAkAffv2paGhoXTfhJnZNk7SK8WOLfsJc0k7A7OASyLi3faGtlKLduqbFiOmRER9RNTX1BQVnmZmtgXKGh6SupMFx20RcWcqv5YORzWdF3k91RuBPgWr1wIr2qmbmVmVlPNqKwG3AEsj4icFi+4Bmq6YGg/cXVAfl666OhR4Jx3eehAYJWmPdGXWqFQzM7MqKec5j8OBM4FFkhak2g+Bq4CZks4FlgNj0rL7yK60WgZ8AJwNEBFvSroCmJPGXd508tzMrBL++c9/0tjYyIcffljtVkqiZ8+e1NbW0r179y3eRtku1a22+vr68AlzMyuFl156iV122YW99tqL7KBK5xURrF69mvfee4/+/ftvtEzS3IioL2Y7/oS5mdlmfPjhh9tEcABIYq+99trqvSiHh5lZEbaF4GhSiu/F4WFmZrk5PMzMyuBvf/sbY8eOZcCAAQwaNIjRo0czZcoUjj322Gq3VhIV+YS5WbkM/c70areQ29xrxlW7BSuziODEE09k/PjxzJgxA4AFCxZw7733btV2161bR7duHePXtvc8zMxK7NFHH6V79+6cd955zbW6ujqGDx/OmjVrOPnkk/nUpz7FGWecQdMVr/369eONN94AoKGhgREjRgAwadIkJkyYwKhRoxg3bhzTpk3jpJNO4uijj2bgwIF897vfrfj3B97zMDMrucWLFzN06NBWl82fP58lS5bQu3dvDj/8cP74xz/y+c9/vt3tzZ07lyeeeIIdd9yRadOmsWDBAubPn0+PHj3Yf//9ufDCC+nTp0+72yg173mYmVXQsGHDqK2tpUuXLtTV1fHyyy9vdp3jjjuOHXfcsfn1yJEj2W233ejZsyeDBg3ilVeKns+wZBweZmYlNnjwYObOndvqsh49ejQ/79q1K+vWrQOgW7dubNiwAWCTz2DstNNORW2jkhweZmYl9sUvfpG1a9dy8803N9fmzJnDY4891uY6/fr1aw6cWbNmlb3HreXwMDMrMUncddddzJ49mwEDBjB48GAmTZpE796921xn4sSJXHzxxQwfPpyuXbtWsNst47mt6HyXe/pSz490tvcO/P51RkuXLuXTn/50tdsoqda+J89tZWZmZeXwMDOz3BweZmaWm8PDzMxyc3iYmVluDg8zM8utbHNbSZoKHAu8HhFDUu0OYP80ZHfg7Yiok9QPWAo8n5Y9HRHnpXWGAtOAHcnuc35xbKvXF5tZp1DqS8SLuXxbEt/85je57rrrALj22mtZs2YNkyZNKmkvxSrnnsc04OjCQkScGhF1EVEHzALuLFj8QtOypuBIbgQmAAPTY6NtmpltD3r06MGdd97ZPPNutZUtPCLiceDN1pYpuwfiKcDt7W1DUi9g14h4Ku1tTAdOKHWvZmYdXbdu3ZgwYQLXX3/9JsteeeUVRo4cyYEHHsjIkSNZvnx52fup1jmP4cBrEfGXglp/SfMlPSZpeKrtCzQWjGlMtVZJmiCpQVLDqlWrSt+1mVkVnX/++dx222288847G9UvuOACxo0bx8KFCznjjDO46KKLyt5LtcLjNDbe61gJ9I2Ig4BvAr+WtCvQ2l3a2zzfERFTIqI+IuprampK2rCZWbXtuuuujBs3jsmTJ29Uf+qppzj99NMBOPPMM3niiSfK3kvFw0NSN+Ak4I6mWkSsjYjV6flc4AVgP7I9jdqC1WuBFZXr1sysY7nkkku45ZZbeP/999sck50ZKK9q7HkcCfw5IpoPR0mqkdQ1Pf8k2YnxFyNiJfCepEPTeZJxwN1V6NnMrEPYc889OeWUU7jllluaa4cddljzvdJvu+22zd6ZsBTKeanu7cAIYG9JjcDEiLgFGMumJ8q/AFwuaR2wHjgvIppOtn+Njy7VvT89zMyqptozI3/rW9/ihhtuaH49efJkzjnnHK655hpqamr45S9/WfYeyhYeEXFaG/WzWqnNIrt0t7XxDcCQkjZnZtbJrFmzpvn5PvvswwcffND8ul+/fvz+97+vaD/+hLmZmeXm8DAzs9wcHmZmlpvDw8zMcnN4mJlZbg4PMzPLrWyX6pqZbauWX35ASbfX98eL2l0eEQwfPpxLL72UY445BoCZM2cydepUHnjggZL2UiyHh5lZByeJm266iTFjxnDEEUewfv16Lr300qoFB/iwlZlZpzBkyBC+/OUvc/XVV3PZZZcxbtw4BgwYwK233sqwYcOoq6vj61//Ohs2bGDdunWceeaZHHDAAQwZMmSTiRRLwXseZmadxMSJEzn44IPZYYcdaGhoYPHixdx11108+eSTzff7mDFjBgMGDOCNN95g0aLscNjbb79d8l4cHmZmncROO+3Eqaeeys4770yPHj14+OGHmTNnDvX19QD8/e9/p0+fPhx11FE8//zzXHzxxYwePZpRo0aVvBeHh5lZJ9KlSxe6dMnOOEQE55xzDldcccUm4xYuXMj999/P5MmTmTVrFlOmTCltHyXdmpmZVcyRRx7JzJkzm+9rvnr1apYvX86qVauICMaMGcNll13GvHnzSv61vedhZpbT5i6trZQDDjiAiRMncuSRR7Jhwwa6d+/OTTfdRNeuXTn33HOJCCRx9dVXl/xrOzzMzDqRSZMmbfT69NNPb74FbaH58+eXtQ8ftjIzs9wcHmZmlpvDw8ysCBFR7RZKphTfS9nCQ9JUSa9LWlxQmyTpr5IWpMfogmU/kLRM0vOSjiqoH51qyyR9v1z9mpm1pWfPnqxevXqbCJCIYPXq1fTs2XOrtlPOE+bTgBuA6S3q10fEtYUFSYOAscBgoDfwsKT90uKfA18CGoE5ku6JiOfK2LeZ2UZqa2tpbGxk1apV1W6lJHr27Eltbe1WbaNs4RERj0vqV+Tw44EZEbEWeEnSMmBYWrYsIl4EkDQjjXV4mFnFdO/enf79+1e7jQ6lGuc8LpC0MB3W2iPV9gVeLRjTmGpt1c3MrIoqHR43AgOAOmAlcF2qq5Wx0U69VZImSGqQ1LCt7F6amXVEFQ2PiHgtItZHxAbgZj46NNUI9CkYWgusaKfe1vanRER9RNTX1NSUtnkzM2tW0fCQ1Kvg5YlA05VY9wBjJfWQ1B8YCDwLzAEGSuovaQeyk+r3VLJnMzPbVNlOmEu6HRgB7C2pEZgIjJBUR3bo6WXgqwARsUTSTLIT4euA8yNifdrOBcCDQFdgakQsKVfPZmZWnHJebXVaK+Vb2hl/JXBlK/X7gPtK2JqZmW0lf8LczMxyc3iYmVluDg8zM8vN4WFmZrn5ZlBmVjVDv9Ny6ruOb+4146rdQofgPQ8zM8vN4WFmZrk5PMzMLDeHh5mZ5ebwMDOz3BweZmaWm8PDzMxyc3iYmVluDg8zM8vN4WFmZrk5PMzMLDeHh5mZ5ebwMDOz3MoWHpKmSnpd0uKC2jWS/ixpoaS7JO2e6v0k/V3SgvS4qWCdoZIWSVomabIklatnMzMrTjn3PKYBR7eozQaGRMSBwH8BPyhY9kJE1KXHeQX1G4EJwMD0aLlNMzOrsLKFR0Q8DrzZovZQRKxLL58GatvbhqRewK4R8VREBDAdOKEc/ZqZWfGqec7jHOD+gtf9Jc2X9Jik4am2L9BYMKYx1czMrIqqcidBSZcC64DbUmkl0DciVksaCvxO0mCgtfMb0c52J5Ad4qJv376lbdrMzJpVfM9D0njgWOCMdCiKiFgbEavT87nAC8B+ZHsahYe2aoEVbW07IqZERH1E1NfU1JTrWzAz2+5VNDwkHQ18DzguIj4oqNdI6pqef5LsxPiLEbESeE/Soekqq3HA3ZXs2czMNlW2w1aSbgdGAHtLagQmkl1d1QOYna64fTpdWfUF4HJJ64D1wHkR0XSy/WtkV27tSHaOpPA8iZmZVUHZwiMiTmulfEsbY2cBs9pY1gAMKWFrZma2lfwJczMzy83hYWZmuTk8zMwsN4eHmZnl5vAwM7PcHB5mZpabw8PMzHJzeJiZWW4ODzMzy62o8JD0SDE1MzPbPrQ7PYmknsDHyOan2oOPpkjfFehd5t7MzKyD2tzcVl8FLiELirl8FB7vAj8vY19mZtaBtRseEfFT4KeSLoyIn1WoJzMz6+CKmlU3In4m6TCgX+E6ETG9TH2ZmVkHVlR4SPoVMABYQHa/DchuB+vwMDPbDhV7P496YFDTbWPNzGz7VuznPBYD/1LORszMrPMods9jb+A5Sc8Ca5uKEXFcWboyM7MOrdjwmLQlG5c0FTgWeD0ihqTansAdZCffXwZOiYi3lN3U/KfAaOAD4KyImJfWGQ/8KG32PyLi1i3px8zMSqOow1YR8VhrjyJWnQYc3aL2feCRiBgIPJJeAxwDDEyPCcCN0Bw2E4FDgGHAxPSBRTMzq5Jipyd5T9K76fGhpPWS3t3cehHxOPBmi/LxQNOew63ACQX16ZF5GthdUi/gKGB2RLwZEW8Bs9k0kMzMrIKK/ZzHLoWvJZ1AthewJfaJiJVpuyslfTzV9wVeLRjXmGpt1c3MrEq2aFbdiPgd8MUS96JWatFOfdMNSBMkNUhqWLVqVUmbMzOzjxT7IcGTCl52Ifvcx5Z+5uM1Sb3SXkcv4PVUbwT6FIyrBVak+ogW9T+0tuGImAJMAaivr/dnUszMyqTYPY8vFzyOAt4jO0exJe4Bxqfn44G7C+rjlDkUeCcd3noQGCVpj3SifFSqmZlZlRR7zuPsLdm4pNvJ9hr2ltRIdtXUVcBMSecCy4Exafh9ZJfpLiO7VPfs9LXflHQFMCeNuzwiWp6ENzOzCir2sFUt8DPgcLLDVU8AF0dEY3vrRcRpbSwa2crYAM5vYztTganF9GpmZuVX7GGrX5IdVupNdqXTvalmZmbboWI/YV4TEYVhMU3SJeVoyDZv+eUHVLuF3Pr+eFG1WzCzEip2z+MNSV+R1DU9vgKsLmdjZmbWcRUbHucApwB/A1YCJ5NOaJuZ2fan2MNWVwDj0/QgTfNNXUsWKmZmtp0pds/jwKbggOzyWeCg8rRkZmYdXbHh0aVwJtu051HsXouZmW1jig2A64AnJf2W7HMepwBXlq0rMzPr0Ir9hPl0SQ1kkyEKOCkinitrZ2Zm1mEVfegphYUDw8zMtmxKdjMz2745PMzMLDeHh5mZ5ebwMDOz3PxZDbMK88SWti3wnoeZmeXm8DAzs9wcHmZmllvFw0PS/pIWFDzelXSJpEmS/lpQH12wzg8kLZP0vKSjKt2zmZltrOInzCPieaAOQFJX4K/AXWT3B7k+Iq4tHC9pEDAWGEx2G9yHJe0XEesr2riZmTWr9mGrkcALEfFKO2OOB2ZExNqIeAlYBgyrSHdmZtaqaofHWOD2gtcXSFooaWrBFPD7Aq8WjGlMNTMzq5KqhYekHYDjgN+k0o3AALJDWivJpoGHbBbflqKNbU6Q1CCpYdWqVSXu2MzMmlRzz+MYYF5EvAYQEa9FxPqI2ADczEeHphqBPgXr1QIrWttgREyJiPqIqK+pqSlj62Zm27dqhsdpFByyktSrYNmJwOL0/B5grKQekvoDA4FnK9almZltoirTk0j6GPAl4KsF5f+UVEd2SOrlpmURsUTSTLJ7iawDzveVVmZm1VWV8IiID4C9WtTObGf8lfi2t2ZmHUa1r7YyM7NOyOFhZma5OTzMzCw3h4eZmeXm8DAzs9wcHmZmlpvDw8zMcnN4mJlZbg4PMzPLzeFhZma5OTzMzCw3h4eZmeXm8DAzs9wcHmZmlpvDw8zMcnN4mJlZbg4PMzPLzeFhZma5VS08JL0saZGkBZIaUm1PSbMl/SX9uUeqS9JkScskLZR0cLX6NjOz6u95HBERdRFRn15/H3gkIgYCj6TXAMcAA9NjAnBjxTs1M7Nm1Q6Plo4Hbk3PbwVOKKhPj8zTwO6SelWjQTMzq254BPCQpLmSJqTaPhGxEiD9+fFU3xd4tWDdxlQzM7Mq6FbFr314RKyQ9HFgtqQ/tzNWrdRik0FZCE0A6Nu3b2m6NDOzTVRtzyMiVqQ/XwfuAoYBrzUdjkp/vp6GNwJ9ClavBVa0ss0pEVEfEfU1NTXlbN/MbLtWlfCQtJOkXZqeA6OAxcA9wPg0bDxwd3p+DzAuXXV1KPBO0+EtMzOrvGodttoHuEtSUw+/jogHJM0BZko6F1gOjEnj7wNGA8uAD4CzK9+ymZk1qUp4RMSLwGdaqa8GRrZSD+D8CrRmZmZF6GiX6pqZWSfg8DAzs9wcHmZmlpvDw8zMcnN4mJlZbg4PMzPLzeFhZma5OTzMzCw3h4eZmeXm8DAzs9wcHmZmlpvDw8zMcnN4mJlZbg4PMzPLzeFhZma5OTzMzCw3h4eZmeXm8DAzs9wqHh6S+kh6VNJSSUskXZzqkyT9VdKC9BhdsM4PJC2T9Lykoyrds5mZbawa9zBfB3wrIuZJ2gWYK2l2WnZ9RFxbOFjSIGAsMBjoDTwsab+IWF/Rrs3MrFnF9zwiYmVEzEvP3wOWAvu2s8rxwIyIWBsRLwHLgGHl79TMzNpS1XMekvoBBwHPpNIFkhZKmippj1TbF3i1YLVG2g8bMzMrs6qFh6SdgVnAJRHxLnAjMACoA1YC1zUNbWX1aGObEyQ1SGpYtWpVGbo2MzOoUnhI6k4WHLdFxJ0AEfFaRKyPiA3AzXx0aKoR6FOwei2worXtRsSUiKiPiPqampryfQNmZtu5alxtJeAWYGlE/KSg3qtg2InA4vT8HmCspB6S+gMDgWcr1a+ZmW2qGldbHQ6cCSyStCDVfgicJqmO7JDUy8BXASJiiaSZwHNkV2qd7yutzMyqq+LhERFP0Pp5jPvaWedK4MqyNWVmZrn4E+ZmZpabw8PMzHJzeJiZWW4ODzMzy83hYWZmuTk8zMwsN4eHmZnl5vAwM7PcHB5mZpabw8PMzHKrxtxWZmad1vLLD6h2C7n0/fGismzXex5mZpabw8PMzHJzeJiZWW4ODzMzy83hYWZmuTk8zMwsN4eHmZnl1mnCQ9LRkp6XtEzS96vdj5nZ9qxThIekrsDPgWOAQcBpkgZVtyszs+1XpwgPYBiwLCJejIh/ADOA46vck5nZdquzhMe+wKsFrxtTzczMqqCzzG2lVmqxySBpAjAhvVwj6fmydlUln4C9gTeq3UcuE1t7C7dPfv86t073/uV77z5R7MDOEh6NQJ+C17XAipaDImIKMKVSTVWLpIaIqK92H7Zl/P51bn7/Mp3lsNUcYKCk/pJ2AMYC91S5JzOz7Van2POIiHWSLgAeBLoCUyNiSZXbMjPbbnWK8ACIiPuA+6rdRwexzR+a28b5/evc/P4BitjkvLOZmVm7Oss5DzMz60AcHh2cpJB0XcHrb0uaVMWWrB3KPCHpmILaKZIeqGZfHc3W/lxLOm5z0xRJ6ifp9K1os2iSTqjkrBeSekv6baW+XmscHh3fWuAkSXtXuxHbvMiOA58H/ERST0k7AVcC51e3sw5nq36uI+KeiLhqM8P6AbnCI02FtCVOIJs6qWTa6yUiVkTEyaX8enk5PDq+dWQn6L7RcoGkT0h6RNLC9GffyrdnLUXEYuBe4HvARGB6RLwgabykZyUtkPS/JXWR1E3SryQtkrRY0kXV7b5iturnWtJZkm5Iz6dJmizpSUkvSmr6pXoVMDz9fX9DUldJ10iak7b91bT+CEmPSvo1sCjtsSyVdLOkJZIekrRjGjtA0gOS5kr6f5I+Jekw4DjgmvS1BrTodUx6b/8k6fFUK7aXqyV9vWBbkyR9K/W4uGBb16afoYWSLkz1oZIeS70+KKnX1rxhm4gIPzrwA1gD7Aq8DOwGfBuYlJbdC4xPz88Bflftfv1oft92Ap4HFgE9gCHA74BuafkUsv8VHwLcX7De7tXuvUJ/P1v1cw2cBdyQnk8DfkP2n+FBZPPgAYwA/m/BOhOAH6XnPYAGoH8a9z7QPy3rRxZuden1TOAr6fkjwMD0/BDg9wU9nNzG97oI2Lfw/c3Ry0HAYwXbeg7om3pcnGpfA2YV/GztCXQHngRqUu1Uso84lOw97DSX6m7PIuJdSdOBi4C/Fyz6HHBSev4r4D8r3Zu1LiLel3QHsCYi1ko6Evgs0CAJYEey+doeBPaX9FOyS9EfqlbPlVbin+vfRcQG4DlJ+7QxZhRwYMGeyW7AQOAfwLMR8VLB2JciYkF6PhfoJ2ln4DDgN+k9hOwX/+b8EZgmaSZwZ55eImK+pI9L6g3UAG9FxHJJ/Qq2fyRwU0SsS+u8KWkI2X9YZqdeuwIri+i1aA6PzuN/AfOAX7Yzxtdddywb0gOy+dmmRsS/txwk6UCy2w1cBPx3PpqfbXtQqp/rtQXP25rMScCFEfHgRkVpBNn/9tva3nqysO8CvB0RdUX00ywizpN0CPBvwAJJdTl7+S1wMvAvZDOKtyQ2/TsSsCQiPpen1zx8zqOTiIg3yXafzy0oP0k2VQvAGcATle7LivYwcErTCWJJe0nqK6mG7PNWvyE7P3JwNZustDL/XL8H7FLw+kHga5K6A0jaL13QUGyv7wIvSRqT1pekz7TxtZpJGhARz0TEj8kmVOyTs5cZZH8fJ5MFSUsPAedJ6pa2tSfZIdMaSZ9Lte6SBhf7vRbD4dG5XEc2o2eTi4CzJS0EzgQurkpXtlkRsQi4DHg4vV8PAfuQ/SJ5XNIC4Gbgh9XrsmrK9XO9EFiXTlR/A/gF2TmDeelk8/8h/9GXM4BzJf0JWMJH9xWaAXxH0vyWJ8zJTqQvSl/zceBPeXqJbCqmXYC/RkRrh55+ASwHFqa+To/svkcnA1en2gKyQ24l40+Ym5lZbt7zMDOz3BweZmaWm8PDzMxyc3iYmVluDg8zM8vN4WHbDEmXprmIFqY5hg6RdImkj1Whl/sk7b6F645QNuvsuQW1g1Lt21u4zV+ogrO+2rbP4WHbhPRhqGOBgyPiQLIpG14FLgFaDQ9t+QyqmxURoyPi7a3YxCKy+YiajCX7fMCW9vM/IuK5rejHbCMOD9tW9ALeiIi1ABHxBtmHpHoDj0p6FEDSGkmXS3oG+FxbM49K+p9pxtM/SZrVtPeibAbXG9PMpy9K+ldJU5XNwjqtqRlJL0vaW+3P0PrZtJf0lLIZVhcXfD/LgZ6S9lE2OdHRwP0F26+T9HRa/y5Je0j6tKRnC8b0Sx+0Q9IfJNWn56PS15wn6TdpziYkXSXpubTNa0v79ti2xuFh24qHgD6S/kvZdOf/GhGTgRXAERFxRBq3E9lspIcAzwA/I5sNdSgwlezeGwB3RsRnI+IzwFI2nj5jD+CLZNOJ3wtcDwwGDkjzFrU0EPh5RAwG3iabvwqy+ZzOS/MPrW9lvd8CY8g+GTyPjedbmg58L+1lLQImRsRSYAdJn0xjTiWb+qNZmh7lR8CREXEw2Wyu30xTWpwIDE7b/I9W+jFr5vCwbUJErAGGkk0quAq4Q9JZrQxdTzZ9NcD+fDTz6AKyX6q1adkQZfdrWEQ2JUXhvED3RjY1wyLgtYhYlGZ0XUI2VXZLrc3QujuwS0Q8meq/bmW9mWThcRpwe1NR0m5kU3s/lkq3Al8oWOeU9PxU4I4W2zyUbNryP6bveTzwCeBd4EPgF5JOAj5opR+zZp5V17YZEbEe+APwh/RLf3wrwz5M46D9mUenASdExJ9SCI0oWNa0B7CBjfcGNtD6v6nWZmhta+bXZhHxN0n/BL5ENr9TMXMT3UE2Zfid2SbiLy2WC5gdEae1XFHSMGAk2fmVC8j2rsxa5T0P2yZI2l/SwIJSHfAK7cx2Svszj+4CrEyznp5R6n4j4i3gPUmHptLYNob+mOzwVPNhrYh4B3hL0vBUOhN4LC17gSyg/p1N9zoAngYOl/TfACR9TNmMrjsDu0XEfWQXGeSadty2P97zsG3FzsDP0uGgdcAyskNYpwH3S1pZcN4DgIj4h7Kb8UxOh4K6kd1fYgnZL99nyAJoEW0H0NY4F7hZ0vtke0zvtBxQcFirpfHATelE/ovA2QXL7gCuIbszXcvtrUp7UrdLarqR0Y/IQvZuST3J9k42uT2sWSHPqmtWJZJ2TudqkPR9oFdEeFp96xS852FWPf8m6Qdk/w5fIbsvt1mn4D0PMzPLzSfMzcwsN4eHmZnl5vAwM7PcHB5mZpabw8PMzHJzeJiZWW7/H3CD+x3z5MJQAAAAAElFTkSuQmCC\n",
      "text/plain": [
       "<Figure size 432x288 with 1 Axes>"
      ]
     },
     "metadata": {
      "needs_background": "light"
     },
     "output_type": "display_data"
    },
    {
     "data": {
      "image/png": "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\n",
      "text/plain": [
       "<Figure size 432x288 with 1 Axes>"
      ]
     },
     "metadata": {
      "needs_background": "light"
     },
     "output_type": "display_data"
    },
    {
     "data": {
      "image/png": "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\n",
      "text/plain": [
       "<Figure size 432x288 with 1 Axes>"
      ]
     },
     "metadata": {
      "needs_background": "light"
     },
     "output_type": "display_data"
    },
    {
     "data": {
      "image/png": "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\n",
      "text/plain": [
       "<Figure size 432x288 with 1 Axes>"
      ]
     },
     "metadata": {
      "needs_background": "light"
     },
     "output_type": "display_data"
    }
   ],
   "source": [
    "def categorical_summarized(dataframe, x=None, y=None, hue=None, verbose=True):\n",
    "    sns.countplot(x=x, y=y, hue=hue, data=dataframe)\n",
    "    plt.show()\n",
    "\n",
    "for i in cats.columns:\n",
    "    categorical_summarized(data, x = i, hue='Churn')"
   ]
  },
  {
   "cell_type": "markdown",
   "metadata": {},
   "source": [
    "<br><br>"
   ]
  },
  {
   "cell_type": "markdown",
   "metadata": {},
   "source": [
    "<h3>3.4.2. Numerical & Numerical</h3>"
   ]
  },
  {
   "cell_type": "markdown",
   "metadata": {},
   "source": [
    "<b>Correlation</b>"
   ]
  },
  {
   "cell_type": "code",
   "execution_count": 37,
   "metadata": {
    "scrolled": false
   },
   "outputs": [
    {
     "data": {
      "text/plain": [
       "<matplotlib.axes._subplots.AxesSubplot at 0x1a1a6edd68>"
      ]
     },
     "execution_count": 37,
     "metadata": {},
     "output_type": "execute_result"
    },
    {
     "data": {
      "image/png": "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\n",
      "text/plain": [
       "<Figure size 432x288 with 2 Axes>"
      ]
     },
     "metadata": {
      "needs_background": "light"
     },
     "output_type": "display_data"
    }
   ],
   "source": [
    "sns.heatmap(nums.corr(), annot=True, cmap='YlGnBu')"
   ]
  },
  {
   "cell_type": "markdown",
   "metadata": {},
   "source": [
    "<br><br>\n",
    "<b>Scatter Plot</b>"
   ]
  },
  {
   "cell_type": "code",
   "execution_count": 38,
   "metadata": {
    "scrolled": false
   },
   "outputs": [
    {
     "data": {
      "text/plain": [
       "<seaborn.axisgrid.PairGrid at 0x1a18f9a2e8>"
      ]
     },
     "execution_count": 38,
     "metadata": {},
     "output_type": "execute_result"
    },
    {
     "data": {
      "image/png": "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\n",
      "text/plain": [
       "<Figure size 540x540 with 12 Axes>"
      ]
     },
     "metadata": {},
     "output_type": "display_data"
    }
   ],
   "source": [
    "sns.set(style='ticks')\n",
    "\n",
    "sns.pairplot(data)"
   ]
  },
  {
   "cell_type": "markdown",
   "metadata": {},
   "source": [
    "<br><br>"
   ]
  },
  {
   "cell_type": "markdown",
   "metadata": {},
   "source": [
    "<h3>3.4.3. Numerical & Categorical</h3>"
   ]
  },
  {
   "cell_type": "code",
   "execution_count": 39,
   "metadata": {},
   "outputs": [
    {
     "data": {
      "text/plain": [
       "Tenure\n",
       "1    0.619902\n",
       "2    0.516807\n",
       "5    0.481203\n",
       "4    0.471591\n",
       "3    0.470000\n",
       "Name: Churn, dtype: float64"
      ]
     },
     "execution_count": 39,
     "metadata": {},
     "output_type": "execute_result"
    }
   ],
   "source": [
    "data['Churn'] = data['Churn'].replace({'Yes':1,'No':0})\n",
    "data.groupby('Tenure')['Churn'].mean().sort_values(ascending=False).head(5)"
   ]
  },
  {
   "cell_type": "code",
   "execution_count": 40,
   "metadata": {},
   "outputs": [
    {
     "data": {
      "image/png": "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\n",
      "text/plain": [
       "<Figure size 432x288 with 1 Axes>"
      ]
     },
     "metadata": {},
     "output_type": "display_data"
    }
   ],
   "source": [
    "plt.plot(pd.DataFrame(data['Tenure'].unique(), columns=['Tenure']).sort_values(by='Tenure'), \n",
    "         data.groupby('Tenure')['Churn'].mean())\n",
    "plt.show()"
   ]
  },
  {
   "cell_type": "markdown",
   "metadata": {},
   "source": [
    "It can be seen that there is negative relationship between 'Tenure' and 'Churn'."
   ]
  },
  {
   "cell_type": "markdown",
   "metadata": {},
   "source": [
    "<br>\n",
    "<b>Bar Charts</b>"
   ]
  },
  {
   "cell_type": "code",
   "execution_count": 41,
   "metadata": {},
   "outputs": [],
   "source": [
    "data['Churn'] = data['Churn'].replace({1:'Yes',0:'No'})"
   ]
  },
  {
   "cell_type": "code",
   "execution_count": 42,
   "metadata": {},
   "outputs": [
    {
     "data": {
      "text/plain": [
       "array([<matplotlib.axes._subplots.AxesSubplot object at 0x1a196ef8d0>,\n",
       "       <matplotlib.axes._subplots.AxesSubplot object at 0x1a19906588>,\n",
       "       <matplotlib.axes._subplots.AxesSubplot object at 0x1a19b85c18>],\n",
       "      dtype=object)"
      ]
     },
     "execution_count": 42,
     "metadata": {},
     "output_type": "execute_result"
    },
    {
     "data": {
      "image/png": "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\n",
      "text/plain": [
       "<Figure size 1008x288 with 3 Axes>"
      ]
     },
     "metadata": {},
     "output_type": "display_data"
    }
   ],
   "source": [
    "fig, ax = plt.subplots(1, 3, figsize=(14, 4))\n",
    "data[data['Churn'] == 'No'][['Tenure', 'MonthlyCharges', 'TotalCharges']].hist(bins=10, \n",
    "                                                                               color='green', \n",
    "                                                                               ax=ax)\n",
    "data[data['Churn'] == 'Yes'][['Tenure', 'MonthlyCharges', 'TotalCharges']].hist(bins=10, \n",
    "                                                                                color='red', \n",
    "                                                                                ax=ax)"
   ]
  },
  {
   "cell_type": "markdown",
   "metadata": {},
   "source": [
    "<br>"
   ]
  },
  {
   "cell_type": "markdown",
   "metadata": {},
   "source": [
    "***"
   ]
  },
  {
   "cell_type": "markdown",
   "metadata": {},
   "source": [
    "<br>"
   ]
  },
  {
   "cell_type": "markdown",
   "metadata": {},
   "source": [
    "<h1>4. Data Preprocessing</h1><br>"
   ]
  },
  {
   "cell_type": "markdown",
   "metadata": {},
   "source": [
    "<h2>4.1. Label Encoding</h2>"
   ]
  },
  {
   "cell_type": "code",
   "execution_count": 43,
   "metadata": {},
   "outputs": [],
   "source": [
    "binary = []\n",
    "multi = []\n",
    "for i in cats.columns:\n",
    "    if i in ['Gender', 'SeniorCitizen', 'Partner', 'Dependents', 'PhoneService', 'PaperlessBilling']:\n",
    "        binary.append(i)\n",
    "    else:\n",
    "        multi.append(i)"
   ]
  },
  {
   "cell_type": "code",
   "execution_count": 44,
   "metadata": {},
   "outputs": [],
   "source": [
    "le = LabelEncoder()\n",
    "\n",
    "target['Churn'] = le.fit_transform(target['Churn'])\n",
    "\n",
    "for i in binary:\n",
    "    features[i] = le.fit_transform(features[i])"
   ]
  },
  {
   "cell_type": "markdown",
   "metadata": {},
   "source": [
    "<br><br>"
   ]
  },
  {
   "cell_type": "markdown",
   "metadata": {},
   "source": [
    "<h2>4.2. Dummification</h2>"
   ]
  },
  {
   "cell_type": "code",
   "execution_count": 45,
   "metadata": {
    "scrolled": true
   },
   "outputs": [],
   "source": [
    "for i in multi:\n",
    "    cols = []\n",
    "    for j in list(features[i].unique()):\n",
    "        cols.append(i + ':' + j)\n",
    "    ohe = OneHotEncoder(dtype='int64', sparse=False)\n",
    "    ohe_i = ohe.fit_transform(features[i].values.reshape(-1, 1))\n",
    "    ohe_i = pd.DataFrame(ohe_i, columns=cols)\n",
    "    features = pd.concat([features, ohe_i], axis=1)\n",
    "    features = features.drop(i, axis=1)"
   ]
  },
  {
   "cell_type": "markdown",
   "metadata": {},
   "source": [
    "<br><br>"
   ]
  },
  {
   "cell_type": "markdown",
   "metadata": {},
   "source": [
    "<h2>4.3. Feature Scaling</h2>"
   ]
  },
  {
   "cell_type": "markdown",
   "metadata": {},
   "source": [
    "Since there is no outlier in dataset, standartization is a good way to improve the performance of our model."
   ]
  },
  {
   "cell_type": "code",
   "execution_count": 46,
   "metadata": {
    "scrolled": true
   },
   "outputs": [],
   "source": [
    "to_scale = ['TotalCharges', 'Tenure', 'MonthlyCharges']\n",
    "std = StandardScaler()\n",
    "scaled = std.fit_transform(features[to_scale])\n",
    "scaled = pd.DataFrame(scaled, index=features.index, columns = to_scale)"
   ]
  },
  {
   "cell_type": "code",
   "execution_count": 47,
   "metadata": {},
   "outputs": [],
   "source": [
    "features['TotalCharges'] = scaled['TotalCharges']\n",
    "features['Tenure'] = scaled['Tenure']\n",
    "features['MonthlyCharges'] = scaled['MonthlyCharges']"
   ]
  },
  {
   "cell_type": "code",
   "execution_count": 48,
   "metadata": {},
   "outputs": [
    {
     "data": {
      "text/plain": [
       "Gender                                                                          [[0.0, 1.0]]\n",
       "SeniorCitizen                                                                   [[0.0, 1.0]]\n",
       "Partner                                                                         [[1.0, 0.0]]\n",
       "Dependents                                                                      [[0.0, 1.0]]\n",
       "Tenure                                     [[-1.2774445836787656, 0.06632741908223598, -1...\n",
       "PhoneService                                                                    [[0.0, 1.0]]\n",
       "PaperlessBilling                                                                [[1.0, 0.0]]\n",
       "MonthlyCharges                             [[-1.1603229160349193, -0.2596289419448806, -0...\n",
       "TotalCharges                               [[-0.9926105235902257, -0.17216470898960817, -...\n",
       "MultipleLines:No phone service                                                  [[0.0, 1.0]]\n",
       "MultipleLines:No                                                                [[1.0, 0.0]]\n",
       "MultipleLines:Yes                                                               [[0.0, 1.0]]\n",
       "InternetService:DSL                                                             [[1.0, 0.0]]\n",
       "InternetService:Fiber optic                                                     [[0.0, 1.0]]\n",
       "InternetService:No                                                              [[0.0, 1.0]]\n",
       "OnlineSecurity:No                                                               [[1.0, 0.0]]\n",
       "OnlineSecurity:Yes                                                              [[0.0, 1.0]]\n",
       "OnlineSecurity:No internet service                                              [[0.0, 1.0]]\n",
       "OnlineBackup:Yes                                                                [[0.0, 1.0]]\n",
       "OnlineBackup:No                                                                 [[0.0, 1.0]]\n",
       "OnlineBackup:No internet service                                                [[1.0, 0.0]]\n",
       "DeviceProtection:No                                                             [[1.0, 0.0]]\n",
       "DeviceProtection:Yes                                                            [[0.0, 1.0]]\n",
       "DeviceProtection:No internet service                                            [[0.0, 1.0]]\n",
       "TechSupport:No                                                                  [[1.0, 0.0]]\n",
       "TechSupport:Yes                                                                 [[0.0, 1.0]]\n",
       "TechSupport:No internet service                                                 [[0.0, 1.0]]\n",
       "StreamingTV:No                                                                  [[1.0, 0.0]]\n",
       "StreamingTV:Yes                                                                 [[0.0, 1.0]]\n",
       "StreamingTV:No internet service                                                 [[0.0, 1.0]]\n",
       "StreamingMovies:No                                                              [[1.0, 0.0]]\n",
       "StreamingMovies:Yes                                                             [[0.0, 1.0]]\n",
       "StreamingMovies:No internet service                                             [[0.0, 1.0]]\n",
       "Contract:Month-to-month                                                         [[1.0, 0.0]]\n",
       "Contract:One year                                                               [[0.0, 1.0]]\n",
       "Contract:Two year                                                               [[0.0, 1.0]]\n",
       "PaymentMethod:Electronic check                                                  [[0.0, 1.0]]\n",
       "PaymentMethod:Mailed check                                                      [[0.0, 1.0]]\n",
       "PaymentMethod:Bank transfer (automatic)                                         [[1.0, 0.0]]\n",
       "PaymentMethod:Credit card (automatic)                                           [[0.0, 1.0]]\n",
       "dtype: object"
      ]
     },
     "execution_count": 48,
     "metadata": {},
     "output_type": "execute_result"
    }
   ],
   "source": [
    "features.apply(lambda x: [x.unique()])"
   ]
  },
  {
   "cell_type": "markdown",
   "metadata": {},
   "source": [
    "<br><br><br>"
   ]
  },
  {
   "cell_type": "markdown",
   "metadata": {},
   "source": [
    "<h2>4.4. Train-Test Split</h2>"
   ]
  },
  {
   "cell_type": "code",
   "execution_count": 49,
   "metadata": {},
   "outputs": [],
   "source": [
    "x_train, x_test, y_train, y_test = train_test_split(features, target, test_size=0.33, random_state=12)"
   ]
  },
  {
   "cell_type": "markdown",
   "metadata": {},
   "source": [
    "***"
   ]
  },
  {
   "cell_type": "markdown",
   "metadata": {},
   "source": [
    "<br>"
   ]
  },
  {
   "cell_type": "markdown",
   "metadata": {},
   "source": [
    "<h1>5. Modeling</h1><br>"
   ]
  },
  {
   "cell_type": "code",
   "execution_count": 50,
   "metadata": {},
   "outputs": [],
   "source": [
    "classifiers = {'Naive Bayes': GaussianNB(),\n",
    "               'Decision Tree': DecisionTreeClassifier(criterion='entropy', random_state=13),\n",
    "               'Logistic Reg.': LogisticRegression(random_state=12),\n",
    "               'K-Nearset N.': KNeighborsClassifier(n_jobs=-1),\n",
    "               'Linear SVC' : LinearSVC(random_state=14, max_iter=10000),\n",
    "               'Random Forest' : RandomForestClassifier(criterion='entropy', n_jobs=-1, random_state=15),\n",
    "               'Gradient B.T.': GradientBoostingClassifier(random_state=16)}"
   ]
  },
  {
   "cell_type": "code",
   "execution_count": 51,
   "metadata": {},
   "outputs": [],
   "source": [
    "model_names = list(classifiers.keys())\n",
    "accuracy = []\n",
    "roc_auc = []\n",
    "log_loss_list = []\n",
    "f1_score_list = []\n",
    "precision = []\n",
    "recall = []"
   ]
  },
  {
   "cell_type": "code",
   "execution_count": 52,
   "metadata": {},
   "outputs": [],
   "source": [
    "def results(y_test, y_pred):\n",
    "    print('Accuracy Score :' + str(accuracy_score(y_test, y_pred)) + '\\n')\n",
    "    accuracy.append(accuracy_score(y_test, y_pred))\n",
    "    print('Precision Score :' + str(precision_score(y_test, y_pred)) + '\\n')\n",
    "    precision.append(precision_score(y_test, y_pred))\n",
    "    print('Recall Score :' + str(recall_score(y_test, y_pred)) + '\\n')\n",
    "    recall.append(recall_score(y_test, y_pred))\n",
    "    print('ROC AUC :' + str(roc_auc_score(y_test,y_pred)) + '\\n')\n",
    "    roc_auc.append(roc_auc_score(y_test,y_pred))\n",
    "    print('Log-Loss :' + str(log_loss(y_test, y_pred)) + '\\n')\n",
    "    log_loss_list.append(log_loss(y_test, y_pred))\n",
    "    print('F1-Score :' + str(f1_score(y_test, y_pred)) + '\\n')\n",
    "    f1_score_list.append(f1_score(y_test, y_pred))\n",
    "    print(classification_report(y_test, y_pred) + '\\n')\n",
    "    print('-----Confusion Matrix-----')\n",
    "    print(confusion_matrix(y_test, y_pred))\n",
    "    print('\\n')"
   ]
  },
  {
   "cell_type": "code",
   "execution_count": 53,
   "metadata": {
    "scrolled": false
   },
   "outputs": [
    {
     "name": "stdout",
     "output_type": "stream",
     "text": [
      "Naive Bayes \n",
      "\n",
      "Accuracy Score :0.6972043010752688\n",
      "\n",
      "Precision Score :0.4506172839506173\n",
      "\n",
      "Recall Score :0.8631756756756757\n",
      "\n",
      "ROC AUC :0.7518417328176417\n",
      "\n",
      "Log-Loss :10.458407196221993\n",
      "\n",
      "F1-Score :0.5921205098493627\n",
      "\n",
      "              precision    recall  f1-score   support\n",
      "\n",
      "           0       0.93      0.64      0.76      1733\n",
      "           1       0.45      0.86      0.59       592\n",
      "\n",
      "   micro avg       0.70      0.70      0.70      2325\n",
      "   macro avg       0.69      0.75      0.68      2325\n",
      "weighted avg       0.81      0.70      0.72      2325\n",
      "\n",
      "\n",
      "-----Confusion Matrix-----\n",
      "[[1110  623]\n",
      " [  81  511]]\n",
      "\n",
      "\n",
      "----------------------------------------------------------------------------------------------------\n",
      "\n",
      "Decision Tree \n",
      "\n",
      "Accuracy Score :0.738494623655914\n",
      "\n",
      "Precision Score :0.487012987012987\n",
      "\n",
      "Recall Score :0.5067567567567568\n",
      "\n",
      "ROC AUC :0.6622069992670108\n",
      "\n",
      "Log-Loss :9.032184396083284\n",
      "\n",
      "F1-Score :0.49668874172185434\n",
      "\n",
      "              precision    recall  f1-score   support\n",
      "\n",
      "           0       0.83      0.82      0.82      1733\n",
      "           1       0.49      0.51      0.50       592\n",
      "\n",
      "   micro avg       0.74      0.74      0.74      2325\n",
      "   macro avg       0.66      0.66      0.66      2325\n",
      "weighted avg       0.74      0.74      0.74      2325\n",
      "\n",
      "\n",
      "-----Confusion Matrix-----\n",
      "[[1417  316]\n",
      " [ 292  300]]\n",
      "\n",
      "\n",
      "----------------------------------------------------------------------------------------------------\n",
      "\n",
      "Logistic Reg. \n",
      "\n",
      "Accuracy Score :0.8068817204301075\n",
      "\n",
      "Precision Score :0.639921722113503\n",
      "\n",
      "Recall Score :0.5523648648648649\n",
      "\n",
      "ROC AUC :0.7230953002916362\n",
      "\n",
      "Log-Loss :6.670132355803033\n",
      "\n",
      "F1-Score :0.5929283771532186\n",
      "\n",
      "              precision    recall  f1-score   support\n",
      "\n",
      "           0       0.85      0.89      0.87      1733\n",
      "           1       0.64      0.55      0.59       592\n",
      "\n",
      "   micro avg       0.81      0.81      0.81      2325\n",
      "   macro avg       0.75      0.72      0.73      2325\n",
      "weighted avg       0.80      0.81      0.80      2325\n",
      "\n",
      "\n",
      "-----Confusion Matrix-----\n",
      "[[1549  184]\n",
      " [ 265  327]]\n",
      "\n",
      "\n",
      "----------------------------------------------------------------------------------------------------\n",
      "\n",
      "K-Nearset N. \n",
      "\n",
      "Accuracy Score :0.7690322580645161\n",
      "\n",
      "Precision Score :0.5474956822107081\n",
      "\n",
      "Recall Score :0.535472972972973\n",
      "\n",
      "ROC AUC :0.6921450265903527\n",
      "\n",
      "Log-Loss :7.977433298319891\n",
      "\n",
      "F1-Score :0.5414175918018787\n",
      "\n",
      "              precision    recall  f1-score   support\n",
      "\n",
      "           0       0.84      0.85      0.85      1733\n",
      "           1       0.55      0.54      0.54       592\n",
      "\n",
      "   micro avg       0.77      0.77      0.77      2325\n",
      "   macro avg       0.69      0.69      0.69      2325\n",
      "weighted avg       0.77      0.77      0.77      2325\n",
      "\n",
      "\n",
      "-----Confusion Matrix-----\n",
      "[[1471  262]\n",
      " [ 275  317]]\n",
      "\n",
      "\n",
      "----------------------------------------------------------------------------------------------------\n",
      "\n",
      "Linear SVC \n",
      "\n",
      "Accuracy Score :0.8060215053763441\n",
      "\n",
      "Precision Score :0.6385068762278978\n",
      "\n",
      "Recall Score :0.5489864864864865\n",
      "\n",
      "ROC AUC :0.7214061111024469\n",
      "\n",
      "Log-Loss :6.699843131196505\n",
      "\n",
      "F1-Score :0.5903723887375114\n",
      "\n",
      "              precision    recall  f1-score   support\n",
      "\n",
      "           0       0.85      0.89      0.87      1733\n",
      "           1       0.64      0.55      0.59       592\n",
      "\n",
      "   micro avg       0.81      0.81      0.81      2325\n",
      "   macro avg       0.75      0.72      0.73      2325\n",
      "weighted avg       0.80      0.81      0.80      2325\n",
      "\n",
      "\n",
      "-----Confusion Matrix-----\n",
      "[[1549  184]\n",
      " [ 267  325]]\n",
      "\n",
      "\n",
      "----------------------------------------------------------------------------------------------------\n",
      "\n",
      "Random Forest \n",
      "\n",
      "Accuracy Score :0.7896774193548387\n",
      "\n",
      "Precision Score :0.6098081023454158\n",
      "\n",
      "Recall Score :0.4831081081081081\n",
      "\n",
      "ROC AUC :0.6887554389357621\n",
      "\n",
      "Log-Loss :7.264347519759593\n",
      "\n",
      "F1-Score :0.5391140433553252\n",
      "\n",
      "              precision    recall  f1-score   support\n",
      "\n",
      "           0       0.84      0.89      0.86      1733\n",
      "           1       0.61      0.48      0.54       592\n",
      "\n",
      "   micro avg       0.79      0.79      0.79      2325\n",
      "   macro avg       0.72      0.69      0.70      2325\n",
      "weighted avg       0.78      0.79      0.78      2325\n",
      "\n",
      "\n",
      "-----Confusion Matrix-----\n",
      "[[1550  183]\n",
      " [ 306  286]]\n",
      "\n",
      "\n",
      "----------------------------------------------------------------------------------------------------\n",
      "\n",
      "Gradient B.T. \n",
      "\n",
      "Accuracy Score :0.8060215053763441\n",
      "\n",
      "Precision Score :0.641851106639839\n",
      "\n",
      "Recall Score :0.5388513513513513\n",
      "\n",
      "ROC AUC :0.7180696456699053\n",
      "\n",
      "Log-Loss :6.699841067719266\n",
      "\n",
      "F1-Score :0.5858585858585857\n",
      "\n",
      "              precision    recall  f1-score   support\n",
      "\n",
      "           0       0.85      0.90      0.87      1733\n",
      "           1       0.64      0.54      0.59       592\n",
      "\n",
      "   micro avg       0.81      0.81      0.81      2325\n",
      "   macro avg       0.75      0.72      0.73      2325\n",
      "weighted avg       0.80      0.81      0.80      2325\n",
      "\n",
      "\n",
      "-----Confusion Matrix-----\n",
      "[[1555  178]\n",
      " [ 273  319]]\n",
      "\n",
      "\n",
      "----------------------------------------------------------------------------------------------------\n",
      "\n"
     ]
    }
   ],
   "source": [
    "for clf in classifiers:\n",
    "    model = classifiers[clf]\n",
    "    model.fit(x_train, y_train)\n",
    "    y_pred = model.predict(x_test)\n",
    "    print(clf, '\\n')\n",
    "    results(y_test, y_pred)\n",
    "    print('-' * 100 + '\\n')"
   ]
  },
  {
   "cell_type": "markdown",
   "metadata": {},
   "source": [
    "<br>"
   ]
  },
  {
   "cell_type": "markdown",
   "metadata": {},
   "source": [
    "***"
   ]
  },
  {
   "cell_type": "markdown",
   "metadata": {},
   "source": [
    "<br>"
   ]
  },
  {
   "cell_type": "markdown",
   "metadata": {},
   "source": [
    "<h1>6. Model Evaluation</h1><br>"
   ]
  },
  {
   "cell_type": "markdown",
   "metadata": {},
   "source": [
    "<h2>6.1. Performance Metrics</h2>"
   ]
  },
  {
   "cell_type": "code",
   "execution_count": 54,
   "metadata": {},
   "outputs": [],
   "source": [
    "def second(x):\n",
    "    return x[1]"
   ]
  },
  {
   "cell_type": "markdown",
   "metadata": {},
   "source": [
    "<b>Accuracy</b>"
   ]
  },
  {
   "cell_type": "code",
   "execution_count": 55,
   "metadata": {},
   "outputs": [
    {
     "name": "stdout",
     "output_type": "stream",
     "text": [
      "Logistic Reg.\t: 0.807\n",
      "Linear SVC\t: 0.806\n",
      "Gradient B.T.\t: 0.806\n",
      "Random Forest\t: 0.790\n",
      "K-Nearset N.\t: 0.769\n",
      "Decision Tree\t: 0.738\n",
      "Naive Bayes\t: 0.697\n"
     ]
    }
   ],
   "source": [
    "for i, j in sorted(zip(model_names, accuracy), key=second, reverse=True):\n",
    "    print(i + '\\t' + ': {0:.{1}f}'.format(j, 3))"
   ]
  },
  {
   "cell_type": "markdown",
   "metadata": {},
   "source": [
    "<br><b>ROC AUC</b>"
   ]
  },
  {
   "cell_type": "code",
   "execution_count": 56,
   "metadata": {
    "scrolled": true
   },
   "outputs": [
    {
     "name": "stdout",
     "output_type": "stream",
     "text": [
      "Naive Bayes\t: 0.752\n",
      "Logistic Reg.\t: 0.723\n",
      "Linear SVC\t: 0.721\n",
      "Gradient B.T.\t: 0.718\n",
      "K-Nearset N.\t: 0.692\n",
      "Random Forest\t: 0.689\n",
      "Decision Tree\t: 0.662\n"
     ]
    }
   ],
   "source": [
    "for i, j in sorted(zip(model_names, roc_auc), key=second, reverse=True):\n",
    "    print(i + '\\t' + ': {0:.{1}f}'.format(j, 3))"
   ]
  },
  {
   "cell_type": "markdown",
   "metadata": {},
   "source": [
    "<br><b>Log-Loss</b>"
   ]
  },
  {
   "cell_type": "code",
   "execution_count": 57,
   "metadata": {},
   "outputs": [
    {
     "name": "stdout",
     "output_type": "stream",
     "text": [
      "Logistic Reg.\t: 6.670\n",
      "Gradient B.T.\t: 6.700\n",
      "Linear SVC\t: 6.700\n",
      "Random Forest\t: 7.264\n",
      "K-Nearset N.\t: 7.977\n",
      "Decision Tree\t: 9.032\n",
      "Naive Bayes\t: 10.458\n"
     ]
    }
   ],
   "source": [
    "for i, j in sorted(zip(model_names, log_loss_list), key=second, reverse=False):\n",
    "    print(i + '\\t' + ': {0:.{1}f}'.format(j, 3))"
   ]
  },
  {
   "cell_type": "markdown",
   "metadata": {},
   "source": [
    "<br><b>F1-Score</b>"
   ]
  },
  {
   "cell_type": "code",
   "execution_count": 58,
   "metadata": {},
   "outputs": [
    {
     "name": "stdout",
     "output_type": "stream",
     "text": [
      "Logistic Reg.\t: 0.593\n",
      "Naive Bayes\t: 0.592\n",
      "Linear SVC\t: 0.590\n",
      "Gradient B.T.\t: 0.586\n",
      "K-Nearset N.\t: 0.541\n",
      "Random Forest\t: 0.539\n",
      "Decision Tree\t: 0.497\n"
     ]
    }
   ],
   "source": [
    "for i, j in sorted(zip(model_names, f1_score_list), key=second, reverse=True):\n",
    "    print(i + '\\t' + ': {0:.{1}f}'.format(j, 3))"
   ]
  },
  {
   "cell_type": "markdown",
   "metadata": {},
   "source": [
    "<br><b>Sensitivity</b>"
   ]
  },
  {
   "cell_type": "code",
   "execution_count": 59,
   "metadata": {},
   "outputs": [
    {
     "name": "stdout",
     "output_type": "stream",
     "text": [
      "Naive Bayes\t: 0.863\n",
      "Logistic Reg.\t: 0.552\n",
      "Linear SVC\t: 0.549\n",
      "Gradient B.T.\t: 0.539\n",
      "K-Nearset N.\t: 0.535\n",
      "Decision Tree\t: 0.507\n",
      "Random Forest\t: 0.483\n"
     ]
    }
   ],
   "source": [
    "for i, j in sorted(zip(model_names, recall), key=second, reverse=True):\n",
    "    print(i + '\\t' + ': {0:.{1}f}'.format(j, 3))"
   ]
  },
  {
   "cell_type": "markdown",
   "metadata": {},
   "source": [
    "<br><b>Precision</b>"
   ]
  },
  {
   "cell_type": "code",
   "execution_count": 60,
   "metadata": {
    "scrolled": false
   },
   "outputs": [
    {
     "name": "stdout",
     "output_type": "stream",
     "text": [
      "Gradient B.T.\t: 0.642\n",
      "Logistic Reg.\t: 0.640\n",
      "Linear SVC\t: 0.639\n",
      "Random Forest\t: 0.610\n",
      "K-Nearset N.\t: 0.547\n",
      "Decision Tree\t: 0.487\n",
      "Naive Bayes\t: 0.451\n"
     ]
    }
   ],
   "source": [
    "for i, j in sorted(zip(model_names, precision), key=second, reverse=True):\n",
    "    print(i + '\\t' + ': {0:.{1}f}'.format(j, 3))"
   ]
  },
  {
   "cell_type": "markdown",
   "metadata": {},
   "source": [
    "The company wants to detect customers who will leave soon and offer them special marketing campaigns.  \n",
    "<br>\n",
    "Thus, precision is the most suitable option to evaluate the performance of models since the data is imbalance and the aim is to identify customers will leave as accurately as possible."
   ]
  },
  {
   "cell_type": "markdown",
   "metadata": {},
   "source": [
    "<br><br>\n",
    "<h2>6.2. k-Fold Cross-Validation</h2>\n",
    "<br>"
   ]
  },
  {
   "cell_type": "code",
   "execution_count": 61,
   "metadata": {
    "scrolled": false
   },
   "outputs": [
    {
     "name": "stdout",
     "output_type": "stream",
     "text": [
      "Gradient B.T.\t: 0.668\n",
      "Linear SVC\t: 0.656\n",
      "Logistic Reg.\t: 0.655\n",
      "Random Forest\t: 0.618\n",
      "K-Nearset N.\t: 0.569\n",
      "Decision Tree\t: 0.503\n",
      "Naive Bayes\t: 0.456\n"
     ]
    }
   ],
   "source": [
    "cv_scores = []\n",
    "\n",
    "for clf in classifiers:\n",
    "    scores = []\n",
    "    model = classifiers[clf]\n",
    "    cv = KFold(n_splits=10, random_state=32)\n",
    "    \n",
    "    for train_index, test_index in cv.split(features.values):\n",
    "        x_train, x_test, y_train, y_test = features.iloc[train_index], features.iloc[test_index], \\\n",
    "                                            target.iloc[train_index], target.iloc[test_index]\n",
    "        model.fit(x_train, y_train)\n",
    "        y_pred = model.predict(x_test)\n",
    "        scores.append(precision_score(y_test, y_pred))\n",
    "    \n",
    "    cv_scores.append(sum(scores) / len(scores))\n",
    "\n",
    "for i, j in sorted(zip(model_names, cv_scores), key=second, reverse=True):\n",
    "    print(i + '\\t' + ': {0:.{1}f}'.format(j, 3))"
   ]
  },
  {
   "cell_type": "markdown",
   "metadata": {},
   "source": [
    "It would seem that Gradient Boosting Tree is the most suitable model for this case according to the precision metric.  \n",
    "<br>\n",
    "Next step is increasing performance of the model by trying different parameters."
   ]
  },
  {
   "cell_type": "markdown",
   "metadata": {},
   "source": [
    "<br><br>\n",
    "<h2>6.3. Hyperparameter Tuning</h2>\n",
    "<br>"
   ]
  },
  {
   "cell_type": "code",
   "execution_count": 63,
   "metadata": {},
   "outputs": [
    {
     "name": "stdout",
     "output_type": "stream",
     "text": [
      "Precision Score: 0.92\n"
     ]
    }
   ],
   "source": [
    "scores = []\n",
    "\n",
    "model = GradientBoostingClassifier(learning_rate=0.01,\n",
    "                                   n_estimators=63,\n",
    "                                   max_depth=5,\n",
    "                                   min_samples_split=50,\n",
    "                                   min_samples_leaf=50,\n",
    "                                   max_features=6,\n",
    "                                   subsample=0.6,\n",
    "                                   random_state=23)\n",
    "\n",
    "cv = KFold(n_splits=10, random_state=32)\n",
    "    \n",
    "for train_index, test_index in cv.split(features.values):\n",
    "    x_train, x_test, y_train, y_test = features.iloc[train_index], features.iloc[test_index], \\\n",
    "                                        target.iloc[train_index], target.iloc[test_index]\n",
    "    model.fit(x_train, y_train)\n",
    "    y_pred = model.predict(x_test)\n",
    "    scores.append(precision_score(y_test, y_pred))\n",
    "    \n",
    "print('Precision Score: {0:.{1}f}'.format(sum(scores) / len(scores), 2))"
   ]
  },
  {
   "cell_type": "markdown",
   "metadata": {},
   "source": [
    "<br>"
   ]
  },
  {
   "cell_type": "markdown",
   "metadata": {},
   "source": [
    "***"
   ]
  },
  {
   "cell_type": "markdown",
   "metadata": {},
   "source": [
    "<br>"
   ]
  },
  {
   "cell_type": "markdown",
   "metadata": {},
   "source": [
    "<h1>7. Conclusion</h1><br>"
   ]
  },
  {
   "cell_type": "markdown",
   "metadata": {},
   "source": [
    "The aim of this study is to predict customer churn and identify customers which will leave the company soon as accurately as possible.  \n",
    "<br>\n",
    "In Data Preparation stage, columns which are irrelevant was dropped and necessary feature transformation was made.  \n",
    "<br>\n",
    "In Exploratory Data Analysis stage, missing values in features was identified and replaced with appropriate values, outliers which may be occurred in features was detected. In addition, univariate and bivariate analysis was applied in order to observing distributions of features and relationships among attributes.  \n",
    "<br>\n",
    "In Data Preprocessing stage, binary features transformed into numerical, dummification of categorical features which have more than two distinct value was made and standard scaling was applied to numerical features in order to increase performance of machine learning models. Also, data was split as train and test for modeling.  \n",
    "<br>\n",
    "In Modeling stage, machine learning models related to classification was applied and their performance scores was printed.  \n",
    "<br>\n",
    "In Model Evaluation stage, performance metrics of models was compared each other and metrics which is most suitable for the problem was chosen. Furthermore, Cross-Validation was applied in order to exhibit the real performance of the models. It was understood that Gradient Boosting Tree has higher performance for this case. Afterwards, increasing the performance of the model was tried by tuning the parameters.  \n",
    "\n",
    "<br>\n",
    "Finally, the model gives precision score of 0.92 which means that thanks to this model 92% of the customers who will be chosen by the model and  will be presented new marketing campaign will be the actual customers who will quit doing business with the company."
   ]
  },
  {
   "cell_type": "markdown",
   "metadata": {},
   "source": [
    "<br>"
   ]
  },
  {
   "cell_type": "markdown",
   "metadata": {},
   "source": [
    "***"
   ]
  },
  {
   "cell_type": "markdown",
   "metadata": {},
   "source": [
    "<br>"
   ]
  },
  {
   "cell_type": "markdown",
   "metadata": {},
   "source": [
    "<h1>8. References</h1><br>"
   ]
  },
  {
   "cell_type": "markdown",
   "metadata": {},
   "source": [
    "* Lakshmanan, S., (2019, April 25). *Exploratory Data Analysis*. Retrieved from https://towardsdatascience.com/exploratory-data-analysis-in-python-ebdf643a33f6\n",
    "<br><br>\n",
    "* Swalin, A., (2018, May 3). *Choosing the Right Metric for Evaluating Machine Learning Models*. Retrieved from https://medium.com/usf-msds/choosing-the-right-metric-for-evaluating-machine-learning-models-part-2-86d5649a5428\n",
    "<br><br>\n",
    "* Boyle, T., (2019, Feb 4). *Dealing with Imbalanced Data*. Retrieved from https://towardsdatascience.com/methods-for-dealing-with-imbalanced-data-5b761be45a18\n",
    "<br><br>\n",
    "* https://www.saedsayad.com/data_mining_map.htm"
   ]
  },
  {
   "cell_type": "markdown",
   "metadata": {},
   "source": [
    "<br><br><br>"
   ]
  }
 ],
 "metadata": {
  "hide_input": false,
  "kernelspec": {
   "display_name": "Python 3",
   "language": "python",
   "name": "python3"
  },
  "language_info": {
   "codemirror_mode": {
    "name": "ipython",
    "version": 3
   },
   "file_extension": ".py",
   "mimetype": "text/x-python",
   "name": "python",
   "nbconvert_exporter": "python",
   "pygments_lexer": "ipython3",
   "version": "3.7.1"
  },
  "toc": {
   "base_numbering": 1,
   "nav_menu": {},
   "number_sections": false,
   "sideBar": true,
   "skip_h1_title": false,
   "title_cell": "Table of Contents",
   "title_sidebar": "Table of Contents",
   "toc_cell": true,
   "toc_position": {
    "height": "calc(100% - 180px)",
    "left": "10px",
    "top": "150px",
    "width": "304px"
   },
   "toc_section_display": true,
   "toc_window_display": true
  },
  "varInspector": {
   "cols": {
    "lenName": 16,
    "lenType": 16,
    "lenVar": 40
   },
   "kernels_config": {
    "python": {
     "delete_cmd_postfix": "",
     "delete_cmd_prefix": "del ",
     "library": "var_list.py",
     "varRefreshCmd": "print(var_dic_list())"
    },
    "r": {
     "delete_cmd_postfix": ") ",
     "delete_cmd_prefix": "rm(",
     "library": "var_list.r",
     "varRefreshCmd": "cat(var_dic_list()) "
    }
   },
   "oldHeight": 153,
   "position": {
    "height": "205px",
    "left": "1px",
    "right": "20px",
    "top": "618px",
    "width": "303px"
   },
   "types_to_exclude": [
    "module",
    "function",
    "builtin_function_or_method",
    "instance",
    "_Feature"
   ],
   "varInspector_section_display": "block",
   "window_display": true
  }
 },
 "nbformat": 4,
 "nbformat_minor": 2
}
